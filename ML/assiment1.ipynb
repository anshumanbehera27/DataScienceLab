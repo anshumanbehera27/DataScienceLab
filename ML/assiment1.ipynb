{
 "cells": [
  {
   "attachments": {},
   "cell_type": "markdown",
   "metadata": {},
   "source": [
    "Artificial Intilligence"
   ]
  },
  {
   "attachments": {},
   "cell_type": "markdown",
   "metadata": {},
   "source": [
    "it is an samart application which can do  his won task by his own with out any human intervation\n",
    "\n",
    "example of AI \n",
    "1. self driving car\n",
    "2. alexa\n",
    "3. google assistant\n",
    "4.robot\n"
   ]
  },
  {
   "attachments": {},
   "cell_type": "markdown",
   "metadata": {},
   "source": [
    "ML - machine learning \n",
    "\n",
    "Machine learning (ML) is a method of data analysis that automates analytical model building1. It is a branch of artificial intelligence based on the idea that systems can learn from data, identify patterns and make decisions with minimal human intervention1.\n",
    "\n",
    "For example, Netflix uses machine learning algorithms to personalize consumer experience within their business2. Another example of machine learning is speech and image recognition"
   ]
  },
  {
   "attachments": {},
   "cell_type": "markdown",
   "metadata": {},
   "source": [
    "DL - Deep Learning \n",
    "\n",
    "\n",
    "\n",
    "Deep learning (DL) is a subset of machine learning that teaches computers to do what comes naturally to humans: learn by example1. Deep learning is implemented by the help of deep networks, which are nothing but neural networks with multiple hidden layers2.\n",
    "\n",
    "Some examples of tasks and applications where deep learning is used include image classification, speech recognition, natural language processing, and autonomous vehicle"
   ]
  },
  {
   "attachments": {},
   "cell_type": "markdown",
   "metadata": {},
   "source": [
    "Q2- What is supervised learning . explain with example "
   ]
  },
  {
   "attachments": {},
   "cell_type": "markdown",
   "metadata": {},
   "source": [
    "Supervised learning is a type of machine learning that uses pre-classified training data to learn a function and make predictions1. Some examples of supervised learning applications are visual recognition, predicting house prices, and spam detection\n",
    "\n"
   ]
  },
  {
   "attachments": {},
   "cell_type": "markdown",
   "metadata": {},
   "source": [
    "Q.3 what is unsupervised learing . explain with example "
   ]
  },
  {
   "attachments": {},
   "cell_type": "markdown",
   "metadata": {},
   "source": [
    "Unsupervised learning is a type of machine learning that analyzes and finds patterns in unlabelled data1. Some examples of unsupervised learning methods are clustering data points using a similarity metric and dimensionality reduction to project high-dimensional data to lower subspaces1.\n",
    "\n",
    "Some examples of unsupervised learning applications are categorizing news articles, recognizing objects in images, predicting diseases using medical imaging, and segmenting customers or DNA patterns"
   ]
  },
  {
   "attachments": {},
   "cell_type": "markdown",
   "metadata": {},
   "source": [
    "What is the differance  between  AI, ML, DL, and DS?"
   ]
  },
  {
   "attachments": {},
   "cell_type": "markdown",
   "metadata": {},
   "source": [
    "AI stands for Artificial Intelligence, which refers to the simulation of human intelligence in machines that are programmed to think and learn like humans1.\n",
    "\n",
    "ML stands for Machine Learning, which is a subset of AI that involves training algorithms to make predictions or decisions based on data.\n",
    "\n",
    "DL stands for Deep Learning, which is a subset of machine learning that involves training artificial neural networks to recognize patterns in data.\n",
    "\n",
    "DS stands for Data Science, which is an interdisciplinary field that involves using scientific methods, processes, algorithms, and systems to extract knowledge and insights from structured and unstructured data"
   ]
  },
  {
   "attachments": {},
   "cell_type": "markdown",
   "metadata": {},
   "source": [
    "what is the diffrance between the supervised and unsupervised learning "
   ]
  },
  {
   "attachments": {},
   "cell_type": "markdown",
   "metadata": {},
   "source": [
    "Supervised learning and unsupervised learning are two types of machine learning techniques.\n",
    "\n",
    "Supervised learning is a type of machine learning that involves training an algorithm on a labeled dataset1. In other words, the input data has corresponding output data that is used to train the algorithm. The goal of supervised learning is to learn a function that maps inputs to outputs based on example input-output pairs2.\n",
    "\n",
    "Unsupervised learning, on the other hand, involves training an algorithm on an unlabeled dataset1. In other words, there is no corresponding output data that is used to train the algorithm. The goal of unsupervised learning is to learn patterns in the input data without any specific feedback2"
   ]
  },
  {
   "attachments": {},
   "cell_type": "markdown",
   "metadata": {},
   "source": [
    "Q6- What is train, test and validation split? Explain the importance of each term."
   ]
  },
  {
   "attachments": {},
   "cell_type": "markdown",
   "metadata": {},
   "source": [
    "Training set: This subset of data is used to train the model. The model learns from this data and adjusts its parameters accordingly.\n",
    "Validation set: This subset of data is used to tune the model’s hyperparameters. Hyperparameters are parameters that are not learned by the model but are set before training2. Tuning these hyperparameters can help improve the model’s performance.\n",
    "Test set: This subset of data is used to evaluate the model’s performance after it has been trained and tuned"
   ]
  },
  {
   "attachments": {},
   "cell_type": "markdown",
   "metadata": {},
   "source": [
    "Q.7 how unsupervised learning be used anonmoly detection ? "
   ]
  },
  {
   "attachments": {},
   "cell_type": "markdown",
   "metadata": {},
   "source": [
    "Unsupervised learning can be used for anomaly detection by identifying normal patterns within a data sample and then detecting outliers based on the natural characteristics of the data set itself1. Unsupervised anomaly detection does not require any training data and instead assumes that only a small percentage of data is anomalous and any anomaly is statistically different from the normal samples2.\n",
    "\n",
    "One of the most common algorithms used for unsupervised anomaly detection is Density Based Scan Clustering (DBSCAN)1. DBSCAN is a density-based clustering algorithm that groups together points that are close to each other in a high-dimensional space1.\n",
    "\n",
    "\n",
    "\n",
    "\n"
   ]
  },
  {
   "attachments": {},
   "cell_type": "markdown",
   "metadata": {},
   "source": [
    "Q.8 list down  some commonly used supervised and unsupervised learning algorithms "
   ]
  },
  {
   "attachments": {},
   "cell_type": "markdown",
   "metadata": {},
   "source": [
    "Supervised learning algorithms are trained on labeled data to make predictions on new data1. Some popular examples of supervised machine learning algorithms are:\n",
    "\n",
    "Linear regression for regression problems\n",
    "Random forest for classification and regression problems\n",
    "Support vector machines for classification problems1.\n",
    "Unsupervised learning involves identifying patterns and structures in unlabeled data2. Some common unsupervised machine learning algorithms include:\n",
    "\n",
    "Clustering\n",
    "Principal Component Analysis (PCA)"
   ]
  }
 ],
 "metadata": {
  "kernelspec": {
   "display_name": "Python 3",
   "language": "python",
   "name": "python3"
  },
  "language_info": {
   "name": "python",
   "version": "3.10.0"
  },
  "orig_nbformat": 4
 },
 "nbformat": 4,
 "nbformat_minor": 2
}

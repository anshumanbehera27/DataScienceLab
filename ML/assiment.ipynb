{
 "cells": [
  {
   "attachments": {},
   "cell_type": "markdown",
   "metadata": {},
   "source": [
    "Q1. What is Min-Max scaling, and how is it used in data preprocessing? Provide an example to illustrate its\n",
    "application."
   ]
  },
  {
   "attachments": {},
   "cell_type": "markdown",
   "metadata": {},
   "source": [
    "Min-Max scaling, also known as Min-Max normalization, is a data preprocessing technique that rescales the values of each feature in a dataset to a range of 0 to 1. This is done by subtracting the minimum value of each feature from all of its values and then dividing by the difference between the maximum and minimum values.\n",
    "\n",
    "Min-Max scaling is often used to normalize features before machine learning algorithms are applied. This is because many machine learning algorithms assume that the features are on a comparable scale. Without normalization, features with a wide range of values can dominate the learning process, leading to inaccurate results."
   ]
  },
  {
   "cell_type": "code",
   "execution_count": 1,
   "metadata": {},
   "outputs": [],
   "source": [
    "import seaborn as sns \n",
    "import pandas as pd \n"
   ]
  },
  {
   "cell_type": "code",
   "execution_count": 2,
   "metadata": {},
   "outputs": [],
   "source": [
    "df = pd.read_csv('tips.csv')\n"
   ]
  },
  {
   "cell_type": "code",
   "execution_count": 3,
   "metadata": {},
   "outputs": [
    {
     "data": {
      "text/html": [
       "<div>\n",
       "<style scoped>\n",
       "    .dataframe tbody tr th:only-of-type {\n",
       "        vertical-align: middle;\n",
       "    }\n",
       "\n",
       "    .dataframe tbody tr th {\n",
       "        vertical-align: top;\n",
       "    }\n",
       "\n",
       "    .dataframe thead th {\n",
       "        text-align: right;\n",
       "    }\n",
       "</style>\n",
       "<table border=\"1\" class=\"dataframe\">\n",
       "  <thead>\n",
       "    <tr style=\"text-align: right;\">\n",
       "      <th></th>\n",
       "      <th>total_bill</th>\n",
       "      <th>tip</th>\n",
       "      <th>sex</th>\n",
       "      <th>smoker</th>\n",
       "      <th>day</th>\n",
       "      <th>time</th>\n",
       "      <th>size</th>\n",
       "    </tr>\n",
       "  </thead>\n",
       "  <tbody>\n",
       "    <tr>\n",
       "      <th>0</th>\n",
       "      <td>16.99</td>\n",
       "      <td>1.01</td>\n",
       "      <td>Female</td>\n",
       "      <td>No</td>\n",
       "      <td>Sun</td>\n",
       "      <td>Dinner</td>\n",
       "      <td>2</td>\n",
       "    </tr>\n",
       "    <tr>\n",
       "      <th>1</th>\n",
       "      <td>10.34</td>\n",
       "      <td>1.66</td>\n",
       "      <td>Male</td>\n",
       "      <td>No</td>\n",
       "      <td>Sun</td>\n",
       "      <td>Dinner</td>\n",
       "      <td>3</td>\n",
       "    </tr>\n",
       "    <tr>\n",
       "      <th>2</th>\n",
       "      <td>21.01</td>\n",
       "      <td>3.50</td>\n",
       "      <td>Male</td>\n",
       "      <td>No</td>\n",
       "      <td>Sun</td>\n",
       "      <td>Dinner</td>\n",
       "      <td>3</td>\n",
       "    </tr>\n",
       "    <tr>\n",
       "      <th>3</th>\n",
       "      <td>23.68</td>\n",
       "      <td>3.31</td>\n",
       "      <td>Male</td>\n",
       "      <td>No</td>\n",
       "      <td>Sun</td>\n",
       "      <td>Dinner</td>\n",
       "      <td>2</td>\n",
       "    </tr>\n",
       "    <tr>\n",
       "      <th>4</th>\n",
       "      <td>24.59</td>\n",
       "      <td>3.61</td>\n",
       "      <td>Female</td>\n",
       "      <td>No</td>\n",
       "      <td>Sun</td>\n",
       "      <td>Dinner</td>\n",
       "      <td>4</td>\n",
       "    </tr>\n",
       "  </tbody>\n",
       "</table>\n",
       "</div>"
      ],
      "text/plain": [
       "   total_bill   tip     sex smoker  day    time  size\n",
       "0       16.99  1.01  Female     No  Sun  Dinner     2\n",
       "1       10.34  1.66    Male     No  Sun  Dinner     3\n",
       "2       21.01  3.50    Male     No  Sun  Dinner     3\n",
       "3       23.68  3.31    Male     No  Sun  Dinner     2\n",
       "4       24.59  3.61  Female     No  Sun  Dinner     4"
      ]
     },
     "execution_count": 3,
     "metadata": {},
     "output_type": "execute_result"
    }
   ],
   "source": [
    "df.head()"
   ]
  },
  {
   "cell_type": "code",
   "execution_count": 4,
   "metadata": {},
   "outputs": [],
   "source": [
    "# min max scalling \n",
    "from sklearn.preprocessing import Normalizer\n"
   ]
  },
  {
   "cell_type": "code",
   "execution_count": 8,
   "metadata": {},
   "outputs": [],
   "source": [
    "min_max  = Normalizer()\n"
   ]
  },
  {
   "cell_type": "code",
   "execution_count": 9,
   "metadata": {},
   "outputs": [
    {
     "data": {
      "text/html": [
       "<style>#sk-container-id-3 {color: black;background-color: white;}#sk-container-id-3 pre{padding: 0;}#sk-container-id-3 div.sk-toggleable {background-color: white;}#sk-container-id-3 label.sk-toggleable__label {cursor: pointer;display: block;width: 100%;margin-bottom: 0;padding: 0.3em;box-sizing: border-box;text-align: center;}#sk-container-id-3 label.sk-toggleable__label-arrow:before {content: \"▸\";float: left;margin-right: 0.25em;color: #696969;}#sk-container-id-3 label.sk-toggleable__label-arrow:hover:before {color: black;}#sk-container-id-3 div.sk-estimator:hover label.sk-toggleable__label-arrow:before {color: black;}#sk-container-id-3 div.sk-toggleable__content {max-height: 0;max-width: 0;overflow: hidden;text-align: left;background-color: #f0f8ff;}#sk-container-id-3 div.sk-toggleable__content pre {margin: 0.2em;color: black;border-radius: 0.25em;background-color: #f0f8ff;}#sk-container-id-3 input.sk-toggleable__control:checked~div.sk-toggleable__content {max-height: 200px;max-width: 100%;overflow: auto;}#sk-container-id-3 input.sk-toggleable__control:checked~label.sk-toggleable__label-arrow:before {content: \"▾\";}#sk-container-id-3 div.sk-estimator input.sk-toggleable__control:checked~label.sk-toggleable__label {background-color: #d4ebff;}#sk-container-id-3 div.sk-label input.sk-toggleable__control:checked~label.sk-toggleable__label {background-color: #d4ebff;}#sk-container-id-3 input.sk-hidden--visually {border: 0;clip: rect(1px 1px 1px 1px);clip: rect(1px, 1px, 1px, 1px);height: 1px;margin: -1px;overflow: hidden;padding: 0;position: absolute;width: 1px;}#sk-container-id-3 div.sk-estimator {font-family: monospace;background-color: #f0f8ff;border: 1px dotted black;border-radius: 0.25em;box-sizing: border-box;margin-bottom: 0.5em;}#sk-container-id-3 div.sk-estimator:hover {background-color: #d4ebff;}#sk-container-id-3 div.sk-parallel-item::after {content: \"\";width: 100%;border-bottom: 1px solid gray;flex-grow: 1;}#sk-container-id-3 div.sk-label:hover label.sk-toggleable__label {background-color: #d4ebff;}#sk-container-id-3 div.sk-serial::before {content: \"\";position: absolute;border-left: 1px solid gray;box-sizing: border-box;top: 0;bottom: 0;left: 50%;z-index: 0;}#sk-container-id-3 div.sk-serial {display: flex;flex-direction: column;align-items: center;background-color: white;padding-right: 0.2em;padding-left: 0.2em;position: relative;}#sk-container-id-3 div.sk-item {position: relative;z-index: 1;}#sk-container-id-3 div.sk-parallel {display: flex;align-items: stretch;justify-content: center;background-color: white;position: relative;}#sk-container-id-3 div.sk-item::before, #sk-container-id-3 div.sk-parallel-item::before {content: \"\";position: absolute;border-left: 1px solid gray;box-sizing: border-box;top: 0;bottom: 0;left: 50%;z-index: -1;}#sk-container-id-3 div.sk-parallel-item {display: flex;flex-direction: column;z-index: 1;position: relative;background-color: white;}#sk-container-id-3 div.sk-parallel-item:first-child::after {align-self: flex-end;width: 50%;}#sk-container-id-3 div.sk-parallel-item:last-child::after {align-self: flex-start;width: 50%;}#sk-container-id-3 div.sk-parallel-item:only-child::after {width: 0;}#sk-container-id-3 div.sk-dashed-wrapped {border: 1px dashed gray;margin: 0 0.4em 0.5em 0.4em;box-sizing: border-box;padding-bottom: 0.4em;background-color: white;}#sk-container-id-3 div.sk-label label {font-family: monospace;font-weight: bold;display: inline-block;line-height: 1.2em;}#sk-container-id-3 div.sk-label-container {text-align: center;}#sk-container-id-3 div.sk-container {/* jupyter's `normalize.less` sets `[hidden] { display: none; }` but bootstrap.min.css set `[hidden] { display: none !important; }` so we also need the `!important` here to be able to override the default hidden behavior on the sphinx rendered scikit-learn.org. See: https://github.com/scikit-learn/scikit-learn/issues/21755 */display: inline-block !important;position: relative;}#sk-container-id-3 div.sk-text-repr-fallback {display: none;}</style><div id=\"sk-container-id-3\" class=\"sk-top-container\"><div class=\"sk-text-repr-fallback\"><pre>Normalizer()</pre><b>In a Jupyter environment, please rerun this cell to show the HTML representation or trust the notebook. <br />On GitHub, the HTML representation is unable to render, please try loading this page with nbviewer.org.</b></div><div class=\"sk-container\" hidden><div class=\"sk-item\"><div class=\"sk-estimator sk-toggleable\"><input class=\"sk-toggleable__control sk-hidden--visually\" id=\"sk-estimator-id-3\" type=\"checkbox\" checked><label for=\"sk-estimator-id-3\" class=\"sk-toggleable__label sk-toggleable__label-arrow\">Normalizer</label><div class=\"sk-toggleable__content\"><pre>Normalizer()</pre></div></div></div></div></div>"
      ],
      "text/plain": [
       "Normalizer()"
      ]
     },
     "execution_count": 9,
     "metadata": {},
     "output_type": "execute_result"
    }
   ],
   "source": [
    "min_max.fit(df[['total_bill' , 'tip']])\n",
    "## we are able to find the mean and standradevation "
   ]
  },
  {
   "attachments": {},
   "cell_type": "markdown",
   "metadata": {},
   "source": [
    "## Xscale = (Xi - Xmin) / (Xmax - Xmin)"
   ]
  },
  {
   "cell_type": "code",
   "execution_count": 10,
   "metadata": {},
   "outputs": [
    {
     "data": {
      "text/plain": [
       "array([[0.99823771, 0.05934197],\n",
       "       [0.98735707, 0.15851187],\n",
       "       [0.98640661, 0.16432285],\n",
       "       [0.99037159, 0.13843454],\n",
       "       [0.98939488, 0.14525073],\n",
       "       [0.98309589, 0.18309141],\n",
       "       [0.97496878, 0.2223418 ],\n",
       "       [0.99333102, 0.11529735],\n",
       "       [0.99161511, 0.12922644],\n",
       "       [0.97694312, 0.21349975],\n",
       "       [0.98641987, 0.16424323],\n",
       "       [0.99009498, 0.14039917],\n",
       "       [0.99485672, 0.10129216],\n",
       "       [0.98700924, 0.16066347],\n",
       "       [0.97988851, 0.19954574],\n",
       "       [0.98389908, 0.17872495],\n",
       "       [0.9871829 , 0.15959298],\n",
       "       [0.9750328 , 0.22206088],\n",
       "       [0.97938658, 0.20199487],\n",
       "       [0.98709527, 0.1601341 ],\n",
       "       [0.97504726, 0.22199737],\n",
       "       [0.9909398 , 0.13430677],\n",
       "       [0.99014941, 0.14001479],\n",
       "       [0.98201   , 0.18882891],\n",
       "       [0.98737215, 0.15841793],\n",
       "       [0.99147891, 0.1302673 ],\n",
       "       [0.98899596, 0.14794255],\n",
       "       [0.98780711, 0.15568276],\n",
       "       [0.98092686, 0.19437721],\n",
       "       [0.98854552, 0.15092298],\n",
       "       [0.98866899, 0.15011205],\n",
       "       [0.99084659, 0.13499272],\n",
       "       [0.98073067, 0.19536467],\n",
       "       [0.99306186, 0.11759312],\n",
       "       [0.98350502, 0.18088084],\n",
       "       [0.98899056, 0.14797864],\n",
       "       [0.9925654 , 0.1217125 ],\n",
       "       [0.98395349, 0.17842512],\n",
       "       [0.99244848, 0.12266217],\n",
       "       [0.98745639, 0.15789197],\n",
       "       [0.99038917, 0.13830871],\n",
       "       [0.9895835 , 0.14396003],\n",
       "       [0.97674434, 0.21440729],\n",
       "       [0.99083017, 0.1351132 ],\n",
       "       [0.98345319, 0.18116243],\n",
       "       [0.98681354, 0.16186116],\n",
       "       [0.9756262 , 0.21943909],\n",
       "       [0.983282  , 0.18208926],\n",
       "       [0.99743203, 0.07161946],\n",
       "       [0.98645298, 0.16404429],\n",
       "       [0.98070081, 0.19551452],\n",
       "       [0.96952977, 0.24497351],\n",
       "       [0.98902579, 0.14774301],\n",
       "       [0.98790759, 0.15504385],\n",
       "       [0.98588897, 0.16740055],\n",
       "       [0.98416747, 0.17724104],\n",
       "       [0.99689977, 0.07868191],\n",
       "       [0.99839096, 0.05670528],\n",
       "       [0.98796171, 0.15469863],\n",
       "       [0.99041991, 0.13808838],\n",
       "       [0.98771556, 0.15626254],\n",
       "       [0.98967534, 0.14332735],\n",
       "       [0.98423933, 0.17684155],\n",
       "       [0.97951611, 0.20136581],\n",
       "       [0.98892398, 0.14842293],\n",
       "       [0.98791805, 0.15497718],\n",
       "       [0.98891429, 0.14848744],\n",
       "       [0.95082902, 0.30971629],\n",
       "       [0.9951003 , 0.09887057],\n",
       "       [0.99044476, 0.13791003],\n",
       "       [0.98683411, 0.16173571],\n",
       "       [0.9849053 , 0.17309408],\n",
       "       [0.99323616, 0.11611175],\n",
       "       [0.98099635, 0.19402618],\n",
       "       [0.98902973, 0.14771659],\n",
       "       [0.99300147, 0.11810198],\n",
       "       [0.98554889, 0.16939122],\n",
       "       [0.98935914, 0.14549399],\n",
       "       [0.99142462, 0.13067987],\n",
       "       [0.98793839, 0.15484749],\n",
       "       [0.98830106, 0.1525156 ],\n",
       "       [0.97980406, 0.19996001],\n",
       "       [0.98388554, 0.17879946],\n",
       "       [0.98849725, 0.15123887],\n",
       "       [0.99202757, 0.12602102],\n",
       "       [0.98916225, 0.14682655],\n",
       "       [0.98842426, 0.15171516],\n",
       "       [0.97688607, 0.21376063],\n",
       "       [0.9731012 , 0.23037807],\n",
       "       [0.99009867, 0.14037316],\n",
       "       [0.99468088, 0.10300458],\n",
       "       [0.98810609, 0.15377374],\n",
       "       [0.98521175, 0.17134117],\n",
       "       [0.96699774, 0.25478494],\n",
       "       [0.98994949, 0.14142136],\n",
       "       [0.99313879, 0.11694166],\n",
       "       [0.98942047, 0.14507631],\n",
       "       [0.9923159 , 0.12373016],\n",
       "       [0.98995892, 0.14135539],\n",
       "       [0.99283152, 0.11952225],\n",
       "       [0.97659027, 0.21510799],\n",
       "       [0.98150229, 0.19145038],\n",
       "       [0.99841143, 0.05634376],\n",
       "       [0.98816699, 0.15338185],\n",
       "       [0.9815078 , 0.19142217],\n",
       "       [0.99434827, 0.10616739],\n",
       "       [0.98092896, 0.1943666 ],\n",
       "       [0.98582805, 0.16775892],\n",
       "       [0.97940711, 0.20189532],\n",
       "       [0.96308275, 0.26920552],\n",
       "       [0.97780241, 0.20952909],\n",
       "       [0.99062113, 0.1366374 ],\n",
       "       [0.99452547, 0.1044944 ],\n",
       "       [0.99437962, 0.1058734 ],\n",
       "       [0.98811258, 0.15373202],\n",
       "       [0.9801647 , 0.19818466],\n",
       "       [0.98595419, 0.16701596],\n",
       "       [0.99022651, 0.13946852],\n",
       "       [0.98967697, 0.14331605],\n",
       "       [0.99272781, 0.12038062],\n",
       "       [0.98102995, 0.19385622],\n",
       "       [0.99225511, 0.12421674],\n",
       "       [0.98497764, 0.17268191],\n",
       "       [0.99222995, 0.12441755],\n",
       "       [0.98021649, 0.19792833],\n",
       "       [0.99021357, 0.1395603 ],\n",
       "       [0.98524568, 0.17114596],\n",
       "       [0.99064659, 0.1364527 ],\n",
       "       [0.9849053 , 0.17309408],\n",
       "       [0.99546798, 0.09509729],\n",
       "       [0.99692399, 0.07837453],\n",
       "       [0.99039401, 0.13827405],\n",
       "       [0.99110348, 0.13309357],\n",
       "       [0.98695377, 0.16100388],\n",
       "       [0.98452739, 0.17523078],\n",
       "       [0.98938373, 0.14532664],\n",
       "       [0.98176841, 0.19008101],\n",
       "       [0.99015833, 0.13995171],\n",
       "       [0.99227788, 0.12403473],\n",
       "       [0.97885648, 0.20454828],\n",
       "       [0.98051586, 0.19643993],\n",
       "       [0.98145122, 0.19171205],\n",
       "       [0.99271283, 0.12050411],\n",
       "       [0.98334222, 0.18176381],\n",
       "       [0.9903434 , 0.13863602],\n",
       "       [0.98424492, 0.17681046],\n",
       "       [0.9973489 , 0.07276795],\n",
       "       [0.99070276, 0.13604427],\n",
       "       [0.98471252, 0.17418739],\n",
       "       [0.96632031, 0.25734229],\n",
       "       [0.98457858, 0.17494289],\n",
       "       [0.98859692, 0.15058597],\n",
       "       [0.98763272, 0.15678526],\n",
       "       [0.99669804, 0.0811974 ],\n",
       "       [0.99492193, 0.10064966],\n",
       "       [0.98549631, 0.16969685],\n",
       "       [0.99465602, 0.10324435],\n",
       "       [0.98893635, 0.14834045],\n",
       "       [0.98152754, 0.1913209 ],\n",
       "       [0.99272506, 0.12040328],\n",
       "       [0.98700727, 0.1606756 ],\n",
       "       [0.98105465, 0.19373117],\n",
       "       [0.99247442, 0.12245212],\n",
       "       [0.98967534, 0.14332735],\n",
       "       [0.98563832, 0.16887007],\n",
       "       [0.99007829, 0.14051682],\n",
       "       [0.99422916, 0.10727713],\n",
       "       [0.9900802 , 0.14050334],\n",
       "       [0.98863996, 0.15030315],\n",
       "       [0.98275687, 0.18490251],\n",
       "       [0.98117767, 0.1931072 ],\n",
       "       [0.98060452, 0.19599686],\n",
       "       [0.81525026, 0.57910881],\n",
       "       [0.99505264, 0.09934906],\n",
       "       [0.97286824, 0.23135987],\n",
       "       [0.99556187, 0.09410934],\n",
       "       [0.99380899, 0.11110218],\n",
       "       [0.99059557, 0.13682259],\n",
       "       [0.92307692, 0.38461538],\n",
       "       [0.99478667, 0.10197784],\n",
       "       [0.99440752, 0.10561096],\n",
       "       [0.971905  , 0.23537348],\n",
       "       [0.99703505, 0.07694868],\n",
       "       [0.96283011, 0.27010771],\n",
       "       [0.99727446, 0.07378109],\n",
       "       [0.97201936, 0.23490076],\n",
       "       [0.98626609, 0.16516418],\n",
       "       [0.99785133, 0.0655188 ],\n",
       "       [0.98190985, 0.18934901],\n",
       "       [0.98533672, 0.17062108],\n",
       "       [0.99546119, 0.09516837],\n",
       "       [0.97835547, 0.20693132],\n",
       "       [0.99597319, 0.08965159],\n",
       "       [0.99159327, 0.12939395],\n",
       "       [0.97210987, 0.2345259 ],\n",
       "       [0.98233857, 0.18711211],\n",
       "       [0.9818027 , 0.18990381],\n",
       "       [0.99334115, 0.11521006],\n",
       "       [0.9883717 , 0.15205718],\n",
       "       [0.98921918, 0.14644251],\n",
       "       [0.97790174, 0.20906504],\n",
       "       [0.98778182, 0.15584313],\n",
       "       [0.9883717 , 0.15205718],\n",
       "       [0.98857982, 0.15069814],\n",
       "       [0.98154316, 0.19124075],\n",
       "       [0.98130713, 0.19244821],\n",
       "       [0.99187684, 0.12720196],\n",
       "       [0.99701346, 0.077228  ],\n",
       "       [0.99652023, 0.0833513 ],\n",
       "       [0.98506977, 0.17215561],\n",
       "       [0.99779396, 0.06638682],\n",
       "       [0.98071158, 0.19546048],\n",
       "       [0.98309941, 0.18307252],\n",
       "       [0.98271253, 0.18513801],\n",
       "       [0.97439703, 0.22483424],\n",
       "       [0.99638411, 0.08496299],\n",
       "       [0.99436913, 0.10597184],\n",
       "       [0.99172875, 0.12835143],\n",
       "       [0.98313005, 0.18290792],\n",
       "       [0.99478573, 0.10198699],\n",
       "       [0.98402491, 0.17803082],\n",
       "       [0.96798392, 0.25101222],\n",
       "       [0.97586485, 0.21837535],\n",
       "       [0.98283039, 0.18451134],\n",
       "       [0.9931405 , 0.11692712],\n",
       "       [0.98839977, 0.15187458],\n",
       "       [0.98091575, 0.19443325],\n",
       "       [0.98941028, 0.14514576],\n",
       "       [0.97966223, 0.20065371],\n",
       "       [0.99163038, 0.1291092 ],\n",
       "       [0.99654862, 0.08301113],\n",
       "       [0.98220682, 0.18780245],\n",
       "       [0.95991662, 0.28028573],\n",
       "       [0.99081337, 0.13523636],\n",
       "       [0.98184827, 0.18966805],\n",
       "       [0.99238364, 0.12318566],\n",
       "       [0.99686539, 0.0791163 ],\n",
       "       [0.99936557, 0.03561553],\n",
       "       [0.99161275, 0.12924453],\n",
       "       [0.97983374, 0.19981453],\n",
       "       [0.99730368, 0.07338511],\n",
       "       [0.99613098, 0.08788099],\n",
       "       [0.99521256, 0.09773412],\n",
       "       [0.98747998, 0.15774441]])"
      ]
     },
     "execution_count": 10,
     "metadata": {},
     "output_type": "execute_result"
    }
   ],
   "source": [
    "min_max.transform(df[['total_bill' , 'tip']]) \n",
    "## here we are able to apply the formular in each data poit \n",
    "\n",
    "\n"
   ]
  },
  {
   "attachments": {},
   "cell_type": "markdown",
   "metadata": {},
   "source": [
    "What is the Unit Vector technique in feature scaling and how does it differ from min-max Scalling "
   ]
  },
  {
   "attachments": {},
   "cell_type": "markdown",
   "metadata": {},
   "source": [
    "Unit vector technique is a data preprocessing technique that scales each feature vector to have a unit length. This is done by dividing each component of the feature vector by its Euclidean norm. The Euclidean norm is the square root of the sum of the squares of the components of the vector.\n",
    "\n",
    "Unit vector technique differs from Min-Max scaling in two ways. First, unit vector technique scales each feature vector to have a unit length, while Min-Max scaling scales each feature vector to a range of 0 to 1. Second, unit vector technique is a more general technique that can be used with any machine learning algorithm that uses distance measures, while Min-Max scaling is specifically designed for algorithms that assume that the features are on a comparable scale.\n"
   ]
  },
  {
   "cell_type": "code",
   "execution_count": 11,
   "metadata": {},
   "outputs": [
    {
     "name": "stdout",
     "output_type": "stream",
     "text": [
      "[0.26726124 0.53452248 0.80178373]\n"
     ]
    }
   ],
   "source": [
    "# Import the necessary libraries\n",
    "import numpy as np\n",
    "\n",
    "# Create a feature vector\n",
    "x = np.array([1, 2, 3])\n",
    "\n",
    "# Calculate the Euclidean norm of the feature vector\n",
    "norm = np.linalg.norm(x)\n",
    "\n",
    "# Scale the feature vector to have a unit length\n",
    "scaled_x = x / norm\n",
    "\n",
    "# Print the scaled feature vector\n",
    "print(scaled_x)"
   ]
  },
  {
   "attachments": {},
   "cell_type": "markdown",
   "metadata": {},
   "source": [
    "What is PCA (Principle Component Analysis), and how is it used in dimensionality reduction? Provide an\n",
    "example to illustrate its application."
   ]
  },
  {
   "attachments": {},
   "cell_type": "markdown",
   "metadata": {},
   "source": [
    "PCA is often used in dimensionality reduction, which is the process of reducing the number of variables in a dataset while preserving as much information as possible. This can be useful for a variety of reasons, such as making the data easier to visualize, or reducing the computational cost of machine learning algorithm\n",
    "\n",
    "We can use PCA to reduce the dimensionality of this dataset from five dimensions (one for each exam) to two dimensions. To do this, we first compute the covariance matrix of the data. The covariance matrix is a square matrix that measures the correlation between each pair of variables. The eigenvalues of the covariance matrix are the variances of the principal components"
   ]
  },
  {
   "attachments": {},
   "cell_type": "markdown",
   "metadata": {},
   "source": [
    "\n",
    "The Iris dataset is a classic dataset in machine learning that contains measurements of sepal and petal width and length for 150 flowers of three different species: Iris setosa, Iris versicolor, and Iris virginica.\n",
    "\n",
    "We can use PCA to reduce the dimensionality of the Iris dataset from four features (sepal width, sepal length, petal width, and petal length) to two features. This can be done by finding the two principal components that explain the most variance in the data.\n",
    "\n",
    "The first principal component (PC1) explains 93.31% of the variance in the Iris dataset, while the second principal component (PC2) explains 6.32% of the variance. This means that PC1 and PC2 together explain 99.63% of the variance in the data, which is a very high percentage."
   ]
  },
  {
   "cell_type": "code",
   "execution_count": 4,
   "metadata": {},
   "outputs": [
    {
     "name": "stdout",
     "output_type": "stream",
     "text": [
      "Eigenvalues:\n",
      "4.228241706034863\n",
      "0.24267074792863336\n",
      "0.07820950004291938\n",
      "0.02383509297344944\n"
     ]
    }
   ],
   "source": [
    "from sklearn.datasets import load_iris\n",
    "from sklearn.decomposition import PCA\n",
    "import matplotlib.pyplot as plt\n",
    "\n",
    "# Load the Iris dataset\n",
    "iris = load_iris()\n",
    "\n",
    "# Create a PCA object\n",
    "pca = PCA()\n",
    "\n",
    "# Fit the PCA object to the Iris dataset\n",
    "pca.fit(iris.data)\n",
    "\n",
    "# Get the principal components\n",
    "principal_components = pca.components_\n",
    "\n",
    "# Get the eigenvalues\n",
    "eigenvalues = pca.explained_variance_\n",
    "\n",
    "# Print the eigenvalues\n",
    "print(\"Eigenvalues:\")\n",
    "for eigenvalue in eigenvalues:\n",
    "    print(eigenvalue)\n",
    "\n",
    "# # Plot the Iris data points on a scatter plot with PC1 on the x-axis and PC2 on the y-axis\n",
    "# plt.scatter(principal_components[:, 0], principal_components[:, 1], c=iris.target)\n",
    "# plt.xlabel('PC1')\n",
    "# plt.ylabel('PC2')\n",
    "# plt.show()\n"
   ]
  },
  {
   "attachments": {},
   "cell_type": "markdown",
   "metadata": {},
   "source": [
    "What is the relationship between PCA and Feature Extraction, and how can PCA be used for Feature\n",
    "Extraction? Provide an example to illustrate this concept.\n"
   ]
  },
  {
   "attachments": {},
   "cell_type": "markdown",
   "metadata": {},
   "source": [
    "PCA (Principal Component Analysis) is a dimensionality reduction technique that is used to reduce the number of features in a dataset while retaining as much information as possible. It does this by finding the directions of maximum variance in the data and projecting the data onto a new subspace with fewer dimensions.\n",
    "\n",
    "Feature extraction is the process of selecting a subset of features from a dataset that are most relevant to the task at hand. This can be done manually or automatically, and there are a number of different techniques that can be used.\n",
    "\n",
    "PCA can be used for feature extraction by first performing PCA on the dataset to reduce the number of dimensions. The new features that are created by PCA are then ranked according to their importance, and the most important features are selected."
   ]
  },
  {
   "attachments": {},
   "cell_type": "markdown",
   "metadata": {},
   "source": [
    "Q5. You are working on a project to build a recommendation system for a food delivery service. The dataset\n",
    "contains features such as price, rating, and delivery time. Explain how you would use Min-Max scaling to\n",
    "preprocess the data."
   ]
  },
  {
   "attachments": {},
   "cell_type": "markdown",
   "metadata": {},
   "source": [
    "Min-Max scaling is a technique used to scale a dataset to a specific range, usually between 0 and 1. It is used to normalize the data and make sure that all the variables are on the same scale. This is important for recommendation systems because it helps to ensure that all the features are equally important to the algorithm.\n",
    "\n",
    "To use Min-Max scaling to preprocess the data for a food delivery recommendation system, you would follow these steps:\n",
    "\n",
    "1. Calculate the minimum and maximum values for each feature.\n",
    "2. Subtract the minimum value from each value in the feature.\n",
    "3. Divide the resulting value by the difference between the maximum and minimum values."
   ]
  },
  {
   "cell_type": "code",
   "execution_count": 1,
   "metadata": {},
   "outputs": [],
   "source": [
    "import pandas as pd \n"
   ]
  },
  {
   "cell_type": "code",
   "execution_count": 2,
   "metadata": {},
   "outputs": [],
   "source": [
    "df = pd.read_csv(\"food.csv\")"
   ]
  },
  {
   "cell_type": "code",
   "execution_count": 3,
   "metadata": {},
   "outputs": [
    {
     "data": {
      "text/html": [
       "<div>\n",
       "<style scoped>\n",
       "    .dataframe tbody tr th:only-of-type {\n",
       "        vertical-align: middle;\n",
       "    }\n",
       "\n",
       "    .dataframe tbody tr th {\n",
       "        vertical-align: top;\n",
       "    }\n",
       "\n",
       "    .dataframe thead th {\n",
       "        text-align: right;\n",
       "    }\n",
       "</style>\n",
       "<table border=\"1\" class=\"dataframe\">\n",
       "  <thead>\n",
       "    <tr style=\"text-align: right;\">\n",
       "      <th></th>\n",
       "      <th>ID</th>\n",
       "      <th>Delivery_person_ID</th>\n",
       "      <th>Delivery_person_Age</th>\n",
       "      <th>Delivery_person_Ratings</th>\n",
       "      <th>Restaurant_latitude</th>\n",
       "      <th>Restaurant_longitude</th>\n",
       "      <th>Delivery_location_latitude</th>\n",
       "      <th>Delivery_location_longitude</th>\n",
       "      <th>Order_Date</th>\n",
       "      <th>Time_Orderd</th>\n",
       "      <th>Time_Order_picked</th>\n",
       "      <th>Weatherconditions</th>\n",
       "      <th>Road_traffic_density</th>\n",
       "      <th>Vehicle_condition</th>\n",
       "      <th>Type_of_order</th>\n",
       "      <th>Type_of_vehicle</th>\n",
       "      <th>multiple_deliveries</th>\n",
       "      <th>Festival</th>\n",
       "      <th>City</th>\n",
       "      <th>Time_taken(min)</th>\n",
       "    </tr>\n",
       "  </thead>\n",
       "  <tbody>\n",
       "    <tr>\n",
       "      <th>0</th>\n",
       "      <td>0x4607</td>\n",
       "      <td>INDORES13DEL02</td>\n",
       "      <td>37</td>\n",
       "      <td>4.9</td>\n",
       "      <td>22.745049</td>\n",
       "      <td>75.892471</td>\n",
       "      <td>22.765049</td>\n",
       "      <td>75.912471</td>\n",
       "      <td>19-03-2022</td>\n",
       "      <td>11:30:00</td>\n",
       "      <td>11:45:00</td>\n",
       "      <td>conditions Sunny</td>\n",
       "      <td>High</td>\n",
       "      <td>2</td>\n",
       "      <td>Snack</td>\n",
       "      <td>motorcycle</td>\n",
       "      <td>0</td>\n",
       "      <td>No</td>\n",
       "      <td>Urban</td>\n",
       "      <td>(min) 24</td>\n",
       "    </tr>\n",
       "    <tr>\n",
       "      <th>1</th>\n",
       "      <td>0xb379</td>\n",
       "      <td>BANGRES18DEL02</td>\n",
       "      <td>34</td>\n",
       "      <td>4.5</td>\n",
       "      <td>12.913041</td>\n",
       "      <td>77.683237</td>\n",
       "      <td>13.043041</td>\n",
       "      <td>77.813237</td>\n",
       "      <td>25-03-2022</td>\n",
       "      <td>19:45:00</td>\n",
       "      <td>19:50:00</td>\n",
       "      <td>conditions Stormy</td>\n",
       "      <td>Jam</td>\n",
       "      <td>2</td>\n",
       "      <td>Snack</td>\n",
       "      <td>scooter</td>\n",
       "      <td>1</td>\n",
       "      <td>No</td>\n",
       "      <td>Metropolitian</td>\n",
       "      <td>(min) 33</td>\n",
       "    </tr>\n",
       "    <tr>\n",
       "      <th>2</th>\n",
       "      <td>0x5d6d</td>\n",
       "      <td>BANGRES19DEL01</td>\n",
       "      <td>23</td>\n",
       "      <td>4.4</td>\n",
       "      <td>12.914264</td>\n",
       "      <td>77.678400</td>\n",
       "      <td>12.924264</td>\n",
       "      <td>77.688400</td>\n",
       "      <td>19-03-2022</td>\n",
       "      <td>08:30:00</td>\n",
       "      <td>08:45:00</td>\n",
       "      <td>conditions Sandstorms</td>\n",
       "      <td>Low</td>\n",
       "      <td>0</td>\n",
       "      <td>Drinks</td>\n",
       "      <td>motorcycle</td>\n",
       "      <td>1</td>\n",
       "      <td>No</td>\n",
       "      <td>Urban</td>\n",
       "      <td>(min) 26</td>\n",
       "    </tr>\n",
       "    <tr>\n",
       "      <th>3</th>\n",
       "      <td>0x7a6a</td>\n",
       "      <td>COIMBRES13DEL02</td>\n",
       "      <td>38</td>\n",
       "      <td>4.7</td>\n",
       "      <td>11.003669</td>\n",
       "      <td>76.976494</td>\n",
       "      <td>11.053669</td>\n",
       "      <td>77.026494</td>\n",
       "      <td>05-04-2022</td>\n",
       "      <td>18:00:00</td>\n",
       "      <td>18:10:00</td>\n",
       "      <td>conditions Sunny</td>\n",
       "      <td>Medium</td>\n",
       "      <td>0</td>\n",
       "      <td>Buffet</td>\n",
       "      <td>motorcycle</td>\n",
       "      <td>1</td>\n",
       "      <td>No</td>\n",
       "      <td>Metropolitian</td>\n",
       "      <td>(min) 21</td>\n",
       "    </tr>\n",
       "    <tr>\n",
       "      <th>4</th>\n",
       "      <td>0x70a2</td>\n",
       "      <td>CHENRES12DEL01</td>\n",
       "      <td>32</td>\n",
       "      <td>4.6</td>\n",
       "      <td>12.972793</td>\n",
       "      <td>80.249982</td>\n",
       "      <td>13.012793</td>\n",
       "      <td>80.289982</td>\n",
       "      <td>26-03-2022</td>\n",
       "      <td>13:30:00</td>\n",
       "      <td>13:45:00</td>\n",
       "      <td>conditions Cloudy</td>\n",
       "      <td>High</td>\n",
       "      <td>1</td>\n",
       "      <td>Snack</td>\n",
       "      <td>scooter</td>\n",
       "      <td>1</td>\n",
       "      <td>No</td>\n",
       "      <td>Metropolitian</td>\n",
       "      <td>(min) 30</td>\n",
       "    </tr>\n",
       "  </tbody>\n",
       "</table>\n",
       "</div>"
      ],
      "text/plain": [
       "        ID Delivery_person_ID Delivery_person_Age Delivery_person_Ratings  \\\n",
       "0  0x4607     INDORES13DEL02                   37                     4.9   \n",
       "1  0xb379     BANGRES18DEL02                   34                     4.5   \n",
       "2  0x5d6d     BANGRES19DEL01                   23                     4.4   \n",
       "3  0x7a6a    COIMBRES13DEL02                   38                     4.7   \n",
       "4  0x70a2     CHENRES12DEL01                   32                     4.6   \n",
       "\n",
       "   Restaurant_latitude  Restaurant_longitude  Delivery_location_latitude  \\\n",
       "0            22.745049             75.892471                   22.765049   \n",
       "1            12.913041             77.683237                   13.043041   \n",
       "2            12.914264             77.678400                   12.924264   \n",
       "3            11.003669             76.976494                   11.053669   \n",
       "4            12.972793             80.249982                   13.012793   \n",
       "\n",
       "   Delivery_location_longitude  Order_Date Time_Orderd Time_Order_picked  \\\n",
       "0                    75.912471  19-03-2022    11:30:00          11:45:00   \n",
       "1                    77.813237  25-03-2022    19:45:00          19:50:00   \n",
       "2                    77.688400  19-03-2022    08:30:00          08:45:00   \n",
       "3                    77.026494  05-04-2022    18:00:00          18:10:00   \n",
       "4                    80.289982  26-03-2022    13:30:00          13:45:00   \n",
       "\n",
       "       Weatherconditions Road_traffic_density  Vehicle_condition  \\\n",
       "0       conditions Sunny                High                   2   \n",
       "1      conditions Stormy                 Jam                   2   \n",
       "2  conditions Sandstorms                 Low                   0   \n",
       "3       conditions Sunny              Medium                   0   \n",
       "4      conditions Cloudy                High                   1   \n",
       "\n",
       "  Type_of_order Type_of_vehicle multiple_deliveries Festival            City  \\\n",
       "0        Snack      motorcycle                    0      No           Urban    \n",
       "1        Snack         scooter                    1      No   Metropolitian    \n",
       "2       Drinks      motorcycle                    1      No           Urban    \n",
       "3       Buffet      motorcycle                    1      No   Metropolitian    \n",
       "4        Snack         scooter                    1      No   Metropolitian    \n",
       "\n",
       "  Time_taken(min)  \n",
       "0        (min) 24  \n",
       "1        (min) 33  \n",
       "2        (min) 26  \n",
       "3        (min) 21  \n",
       "4        (min) 30  "
      ]
     },
     "execution_count": 3,
     "metadata": {},
     "output_type": "execute_result"
    }
   ],
   "source": [
    "df.head()"
   ]
  },
  {
   "attachments": {},
   "cell_type": "markdown",
   "metadata": {},
   "source": [
    "Time_taken(min) Delivery_person_Ratings"
   ]
  },
  {
   "cell_type": "code",
   "execution_count": 4,
   "metadata": {},
   "outputs": [],
   "source": [
    "from sklearn.preprocessing import MinMaxScaler"
   ]
  },
  {
   "cell_type": "code",
   "execution_count": 5,
   "metadata": {},
   "outputs": [],
   "source": [
    "# crate a object \n",
    "min_max = MinMaxScaler()\n"
   ]
  },
  {
   "cell_type": "code",
   "execution_count": 14,
   "metadata": {},
   "outputs": [
    {
     "data": {
      "text/html": [
       "<style>#sk-container-id-1 {color: black;background-color: white;}#sk-container-id-1 pre{padding: 0;}#sk-container-id-1 div.sk-toggleable {background-color: white;}#sk-container-id-1 label.sk-toggleable__label {cursor: pointer;display: block;width: 100%;margin-bottom: 0;padding: 0.3em;box-sizing: border-box;text-align: center;}#sk-container-id-1 label.sk-toggleable__label-arrow:before {content: \"▸\";float: left;margin-right: 0.25em;color: #696969;}#sk-container-id-1 label.sk-toggleable__label-arrow:hover:before {color: black;}#sk-container-id-1 div.sk-estimator:hover label.sk-toggleable__label-arrow:before {color: black;}#sk-container-id-1 div.sk-toggleable__content {max-height: 0;max-width: 0;overflow: hidden;text-align: left;background-color: #f0f8ff;}#sk-container-id-1 div.sk-toggleable__content pre {margin: 0.2em;color: black;border-radius: 0.25em;background-color: #f0f8ff;}#sk-container-id-1 input.sk-toggleable__control:checked~div.sk-toggleable__content {max-height: 200px;max-width: 100%;overflow: auto;}#sk-container-id-1 input.sk-toggleable__control:checked~label.sk-toggleable__label-arrow:before {content: \"▾\";}#sk-container-id-1 div.sk-estimator input.sk-toggleable__control:checked~label.sk-toggleable__label {background-color: #d4ebff;}#sk-container-id-1 div.sk-label input.sk-toggleable__control:checked~label.sk-toggleable__label {background-color: #d4ebff;}#sk-container-id-1 input.sk-hidden--visually {border: 0;clip: rect(1px 1px 1px 1px);clip: rect(1px, 1px, 1px, 1px);height: 1px;margin: -1px;overflow: hidden;padding: 0;position: absolute;width: 1px;}#sk-container-id-1 div.sk-estimator {font-family: monospace;background-color: #f0f8ff;border: 1px dotted black;border-radius: 0.25em;box-sizing: border-box;margin-bottom: 0.5em;}#sk-container-id-1 div.sk-estimator:hover {background-color: #d4ebff;}#sk-container-id-1 div.sk-parallel-item::after {content: \"\";width: 100%;border-bottom: 1px solid gray;flex-grow: 1;}#sk-container-id-1 div.sk-label:hover label.sk-toggleable__label {background-color: #d4ebff;}#sk-container-id-1 div.sk-serial::before {content: \"\";position: absolute;border-left: 1px solid gray;box-sizing: border-box;top: 0;bottom: 0;left: 50%;z-index: 0;}#sk-container-id-1 div.sk-serial {display: flex;flex-direction: column;align-items: center;background-color: white;padding-right: 0.2em;padding-left: 0.2em;position: relative;}#sk-container-id-1 div.sk-item {position: relative;z-index: 1;}#sk-container-id-1 div.sk-parallel {display: flex;align-items: stretch;justify-content: center;background-color: white;position: relative;}#sk-container-id-1 div.sk-item::before, #sk-container-id-1 div.sk-parallel-item::before {content: \"\";position: absolute;border-left: 1px solid gray;box-sizing: border-box;top: 0;bottom: 0;left: 50%;z-index: -1;}#sk-container-id-1 div.sk-parallel-item {display: flex;flex-direction: column;z-index: 1;position: relative;background-color: white;}#sk-container-id-1 div.sk-parallel-item:first-child::after {align-self: flex-end;width: 50%;}#sk-container-id-1 div.sk-parallel-item:last-child::after {align-self: flex-start;width: 50%;}#sk-container-id-1 div.sk-parallel-item:only-child::after {width: 0;}#sk-container-id-1 div.sk-dashed-wrapped {border: 1px dashed gray;margin: 0 0.4em 0.5em 0.4em;box-sizing: border-box;padding-bottom: 0.4em;background-color: white;}#sk-container-id-1 div.sk-label label {font-family: monospace;font-weight: bold;display: inline-block;line-height: 1.2em;}#sk-container-id-1 div.sk-label-container {text-align: center;}#sk-container-id-1 div.sk-container {/* jupyter's `normalize.less` sets `[hidden] { display: none; }` but bootstrap.min.css set `[hidden] { display: none !important; }` so we also need the `!important` here to be able to override the default hidden behavior on the sphinx rendered scikit-learn.org. See: https://github.com/scikit-learn/scikit-learn/issues/21755 */display: inline-block !important;position: relative;}#sk-container-id-1 div.sk-text-repr-fallback {display: none;}</style><div id=\"sk-container-id-1\" class=\"sk-top-container\"><div class=\"sk-text-repr-fallback\"><pre>MinMaxScaler()</pre><b>In a Jupyter environment, please rerun this cell to show the HTML representation or trust the notebook. <br />On GitHub, the HTML representation is unable to render, please try loading this page with nbviewer.org.</b></div><div class=\"sk-container\" hidden><div class=\"sk-item\"><div class=\"sk-estimator sk-toggleable\"><input class=\"sk-toggleable__control sk-hidden--visually\" id=\"sk-estimator-id-1\" type=\"checkbox\" checked><label for=\"sk-estimator-id-1\" class=\"sk-toggleable__label sk-toggleable__label-arrow\">MinMaxScaler</label><div class=\"sk-toggleable__content\"><pre>MinMaxScaler()</pre></div></div></div></div></div>"
      ],
      "text/plain": [
       "MinMaxScaler()"
      ]
     },
     "execution_count": 14,
     "metadata": {},
     "output_type": "execute_result"
    }
   ],
   "source": [
    "min_max.fit(df[['Delivery_person_Ratings' ]])"
   ]
  },
  {
   "cell_type": "code",
   "execution_count": 15,
   "metadata": {},
   "outputs": [
    {
     "data": {
      "text/plain": [
       "array([[0.78],\n",
       "       [0.7 ],\n",
       "       [0.68],\n",
       "       ...,\n",
       "       [0.78],\n",
       "       [0.74],\n",
       "       [0.78]])"
      ]
     },
     "execution_count": 15,
     "metadata": {},
     "output_type": "execute_result"
    }
   ],
   "source": [
    "min_max.transform(df[['Delivery_person_Ratings']])"
   ]
  },
  {
   "attachments": {},
   "cell_type": "markdown",
   "metadata": {},
   "source": [
    "You are working on a project to build a model to predict stock prices. The dataset contains many\n",
    "features, such as company financial data and market trends. Explain how you would use PCA to reduce the\n",
    "dimensionality of the dataset."
   ]
  },
  {
   "attachments": {},
   "cell_type": "markdown",
   "metadata": {},
   "source": [
    "Principal component analysis (PCA) is a dimensionality reduction technique that can be used to reduce the number of features in a dataset while preserving as much of the information as possible. This can be useful for stock price prediction, as it can help to reduce the computational complexity of the model and improve its performance.\n",
    "\n",
    "To use PCA to reduce the dimensionality of a dataset for stock price prediction, you would follow these steps:\n",
    "\n",
    "Standardize the features in the dataset. This means that you would subtract the mean from each feature and divide it by its standard deviation.\n",
    "Calculate the covariance matrix of the standardized features. This is a matrix that shows how the features are correlated with each other.\n",
    "Find the eigenvectors and eigenvalues of the covariance matrix. The eigenvectors are the directions in which the data is most spread out, and the eigenvalues are the variances of the data along those directions.\n",
    "Select the top k eigenvectors, where k is the desired number of dimensions.\n",
    "Project the data onto the subspace spanned by the selected eigenvectors. This will reduce the dimensionality of the data from d to k."
   ]
  },
  {
   "attachments": {},
   "cell_type": "markdown",
   "metadata": {},
   "source": [
    "Q7. For a dataset containing the following values: [1, 5, 10, 15, 20], perform Min-Max scaling to transform the\n",
    "values to a range of -1 to 1."
   ]
  },
  {
   "cell_type": "code",
   "execution_count": 16,
   "metadata": {},
   "outputs": [],
   "source": [
    "import pandas as pd \n",
    "\n",
    "\n",
    "\n",
    "df = pd.DataFrame([1,5,10 ,15, 20])\n",
    "\n"
   ]
  },
  {
   "cell_type": "code",
   "execution_count": 17,
   "metadata": {},
   "outputs": [],
   "source": [
    "from sklearn.preprocessing import MinMaxScaler"
   ]
  },
  {
   "cell_type": "code",
   "execution_count": 18,
   "metadata": {},
   "outputs": [],
   "source": [
    "min_max = MinMaxScaler()"
   ]
  },
  {
   "cell_type": "code",
   "execution_count": 19,
   "metadata": {},
   "outputs": [
    {
     "data": {
      "text/plain": [
       "array([[0.        ],\n",
       "       [0.21052632],\n",
       "       [0.47368421],\n",
       "       [0.73684211],\n",
       "       [1.        ]])"
      ]
     },
     "execution_count": 19,
     "metadata": {},
     "output_type": "execute_result"
    }
   ],
   "source": [
    "min_max.fit_transform(df)"
   ]
  },
  {
   "attachments": {},
   "cell_type": "markdown",
   "metadata": {},
   "source": [
    "For a dataset containing the following features: [height, weight, age, gender, blood pressure], perform\n",
    "Feature Extraction using PCA. How many principal components would you choose to retain, and why?"
   ]
  },
  {
   "attachments": {},
   "cell_type": "markdown",
   "metadata": {},
   "source": [
    "Here are the steps on how to perform feature extraction using PCA on a dataset containing the following features: [height, weight, age, gender, blood pressure]:\n",
    "\n",
    "Standardize the data. This means subtracting the mean from each feature and dividing by the standard deviation. This is important because PCA works best when the features are on a similar scale.\n",
    "Calculate the covariance matrix. This is a matrix that shows how each feature is correlated with the other features.\n",
    "Find the eigenvectors and eigenvalues of the covariance matrix. The eigenvectors are the directions in which the data varies the most, and the eigenvalues are the variances of the data along those directions.\n",
    "Choose the number of principal components to retain. This is usually done by choosing the number of principal components that account for a certain percentage of the variance in the data, such as 95%."
   ]
  },
  {
   "cell_type": "code",
   "execution_count": 20,
   "metadata": {},
   "outputs": [],
   "source": [
    "import pandas as pd"
   ]
  },
  {
   "cell_type": "code",
   "execution_count": 24,
   "metadata": {},
   "outputs": [],
   "source": [
    "df = pd.read_csv(\"cardio_train.csv\")\n"
   ]
  },
  {
   "cell_type": "code",
   "execution_count": 25,
   "metadata": {},
   "outputs": [
    {
     "data": {
      "text/plain": [
       "Index(['id;age;gender;height;weight;ap_hi;ap_lo;cholesterol;gluc;smoke;alco;active;cardio'], dtype='object')"
      ]
     },
     "execution_count": 25,
     "metadata": {},
     "output_type": "execute_result"
    }
   ],
   "source": [
    "df.columns"
   ]
  },
  {
   "cell_type": "code",
   "execution_count": null,
   "metadata": {},
   "outputs": [],
   "source": [
    "import numpy as np\n",
    "from sklearn.decomposition import PCA\n",
    "\n",
    "# Load the data\n",
    "data = np.loadtxt(\"data.csv\", delimiter=\",\")\n",
    "\n",
    "# Standardize the data\n",
    "scaler = StandardScaler()\n",
    "data_standardized = scaler.fit_transform(data)\n",
    "\n",
    "# Calculate the covariance matrix\n",
    "covariance_matrix = np.cov(data_standardized.T)\n",
    "\n",
    "# Find the eigenvectors and eigenvalues of the covariance matrix\n",
    "eigenvalues, eigenvectors = np.linalg.eig(covariance_matrix)\n",
    "\n",
    "# Sort the eigenvalues in descending order\n",
    "eigenvalues = eigenvalues[::-1]\n",
    "\n",
    "# Choose the number of principal components to retain\n",
    "num_principal_components = 2\n",
    "\n",
    "# Create a PCA object\n",
    "pca = PCA(n_components=num_principal_components)\n",
    "\n",
    "# Transform the data to the principal component space\n",
    "data_pca = pca.fit_transform(data_standardized)\n",
    "\n",
    "# Print the variance explained by each principal component\n",
    "print(pca.explained_variance_ratio_)\n"
   ]
  }
 ],
 "metadata": {
  "kernelspec": {
   "display_name": "Python 3",
   "language": "python",
   "name": "python3"
  },
  "language_info": {
   "codemirror_mode": {
    "name": "ipython",
    "version": 3
   },
   "file_extension": ".py",
   "mimetype": "text/x-python",
   "name": "python",
   "nbconvert_exporter": "python",
   "pygments_lexer": "ipython3",
   "version": "3.10.0"
  },
  "orig_nbformat": 4
 },
 "nbformat": 4,
 "nbformat_minor": 2
}

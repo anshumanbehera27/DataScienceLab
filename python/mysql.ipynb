{
 "cells": [
  {
   "attachments": {},
   "cell_type": "markdown",
   "metadata": {},
   "source": [
    "#### Q1. What is a database?\n",
    "Databases are the collection of data in order to store and retrieve data. The database consists of data which can be a numeric, alphabetic and also alphanumeric form. Analyzing data is a key feature of database management system that is DBMS"
   ]
  },
  {
   "attachments": {},
   "cell_type": "markdown",
   "metadata": {},
   "source": [
    "#### Differentiate between SQL and NoSQL databases.\n"
   ]
  },
  {
   "cell_type": "code",
   "execution_count": null,
   "metadata": {},
   "outputs": [],
   "source": [
    "# SQL\t\t\t\t\t\t|    NoSQL\n",
    "# relational\t\t\t    | non-relational\n",
    "#   \t\t\t\t\t\t|\n",
    "# use structured query\t    | NoSQL databases have \n",
    "# language and have a\t\t| dynamic schemas for \n",
    "# predefined schema.\t\t| unstructured data.\n",
    "# \t\t\t\t\t\t    |\n",
    "# are vertically scalable   | are horizontally scalable.\n",
    "# are table based\t\t\t| are document, key-value,\n",
    "# \t\t\t\t\t\t    | graph or wide-column stores.\n",
    "#                           |\n",
    "# are better for multi-row  | are better for unstructured \n",
    "# transactions\t\t\t    | data like documents or JSON."
   ]
  },
  {
   "attachments": {},
   "cell_type": "markdown",
   "metadata": {},
   "source": [
    "Q2. What is DDL? Explain why CREATE, DROP, ALTER, and TRUNCATE are used with an example.\n",
    "\n",
    "A data definition language (DDL) is a computer language used to create and modify the structure of database objects in a database. These database objects include views, schemas, tables, indexes, etc\n",
    "  \n",
    "\n",
    "Create: CREATE is used to create a new database or a new table in a database. It is also used to create a new view or a new index on a table.\n",
    "\n",
    "Drop: DROP is used to delete a database or a table from a database. It is also used to delete a view or an index from a table.\n",
    "\n",
    "Alter: ALTER is used to alter the structure of a database or a table. It is also used to alter the structure of a view or an index.\n",
    " \n",
    "Truncate: TRUNCATE is used to delete all the records from a table, including all spaces allocated for the records are removed. It is faster than DELETE statement as it does not log the changes for the table.\n",
    "\n",
    "\n",
    "\n"
   ]
  },
  {
   "cell_type": "code",
   "execution_count": null,
   "metadata": {},
   "outputs": [],
   "source": []
  },
  {
   "attachments": {},
   "cell_type": "markdown",
   "metadata": {},
   "source": [
    "What is DML? Explain INSERT, UPDATE, and DELETE with an example."
   ]
  },
  {
   "attachments": {},
   "cell_type": "markdown",
   "metadata": {},
   "source": [
    "A DML (data manipulation language) refers to a computer programming language that allows you to add (insert), delete (delete), and alter (update) data in a database. A DML is typically a sublanguage of a larger database language like SQL, with the DML containing some of the language's operators\n",
    "\n",
    "Insert: INSERT is used to insert a new record in a table.\n",
    "\n",
    "Update: UPDATE is used to modify the existing records in a table.\n",
    "\n",
    "Delete: DELETE is used to delete records from a table.\n"
   ]
  },
  {
   "attachments": {},
   "cell_type": "markdown",
   "metadata": {},
   "source": [
    "4. What is DQL? Explain SELECT with an example.\n",
    "\n",
    "DQL (data query language) is a computer language used to query data from a database. It is a sublanguage of SQL (structured query language) and is used to retrieve data from a database. DQL is used to retrieve data from a database and is used to retrieve data from a database.\n",
    "\n",
    "SELECT is used to retrieve data from a database. It is used to retrieve data from a single table or multiple tables. It is also used to retrieve data from a view or a table.\n"
   ]
  },
  {
   "attachments": {},
   "cell_type": "markdown",
   "metadata": {},
   "source": [
    "Q5. Explain Primary Key and Foreign Key.\n",
    "\n",
    "#### PRIMARY KEY\n",
    "1. A primary key is used to ensure data in the specific column is unique.\n",
    "2. It uniquely identifies a record in the relational database table.\n",
    "3. Only one primary key is allowed in a table\n",
    "4. It is a combination of UNIQUE and Not Null constraints.\n",
    "5. It does not allow NULL values.\n",
    "6. Its value cannot be deleted from the parent table\n",
    "7. It constraint can be implicitly defined on the temporary tables\n",
    "\n",
    "#### FOREIGN KEY\n",
    "1. A foreign key is a column or group of columns in a relational database table that provides a link between data in two tables.\n",
    "2. It refers to the field in a table which is the primary key of another table\n",
    "\n",
    "3. It can contain duplicate values and a table in a relational database.\n",
    "4. It can also contain NULL values.\n",
    "5. Its value can be deleted from the child table.\n",
    "6. It constraint cannot be defined on the local or global temporary tables\n",
    "\n"
   ]
  },
  {
   "attachments": {},
   "cell_type": "markdown",
   "metadata": {},
   "source": [
    "Q6. Write a python code to connect MySQL to python. Explain the cursor() and execute() method."
   ]
  },
  {
   "cell_type": "code",
   "execution_count": null,
   "metadata": {},
   "outputs": [],
   "source": [
    "import mysql.connector\n",
    "mydb = mysql.connector.connect(\n",
    "  host=\"localhost\",\n",
    "  user=\"abc\",\n",
    "  password=\"password\"\n",
    ")\n",
    "print(mydb)\n",
    "mycursor = mydb.cursor()\n",
    "mycursor.execute(\"CREATE DATABASE if not exists test2\")\n",
    "mydb.close()"
   ]
  },
  {
   "attachments": {},
   "cell_type": "markdown",
   "metadata": {},
   "source": [
    "#### cursor() method\n",
    "The cursor() method creates a cursor object. The cursor object is used to execute the SQL statements in Python.\n",
    "It is an object that is used to make the connection for executing SQL queries. It acts as middleware between SQLite database connection and SQL query. It is created after giving connection to SQLite database.\n",
    "\n",
    "#### execute() method\n",
    "The execute() method executes the SQL query. It is used to execute the SQL query in the database. It returns a boolean value. If the query is executed successfully, it returns True. If the query is not executed successfully, it returns False.\n",
    "To execute a SQL query in Python, you'll need to use a cursor, which abstracts away the access to database records. MySQL Connector/Python provides you with the MySQLCursor class, which instantiates objects that can execute MySQL queries in Python. An instance of the MySQLCursor class is also called a cursor"
   ]
  },
  {
   "attachments": {},
   "cell_type": "markdown",
   "metadata": {},
   "source": [
    "Q7. Give the order of execution of SQL clauses in an SQL query.\n",
    "1. FROM/JOIN: The FROM and/or JOIN clauses are executed first to determine the data of interest.\n",
    "\n",
    "2. WHERE: The WHERE clause is executed to filter out records that do not meet the constraints.\n",
    "\n",
    "3. GROUP BY: The GROUP BY clause is executed to group the data based on the values in one or more columns.\n",
    "\n",
    "4. HAVING: The HAVING clause is executed to remove the created grouped records that don’t meet the constraints.\n",
    "\n",
    "5. SELECT: The SELECT clause is executed to derive all desired columns and expressions.\n",
    "\n",
    "6. ORDER BY: The ORDER BY clause is executed to sort the derived values in ascending or descending order.\n",
    "\n",
    "7. LIMIT/OFFSET: Finally, the LIMIT and/or OFFSET clauses are executed to keep or skip a specified number of rows."
   ]
  },
  {
   "cell_type": "code",
   "execution_count": null,
   "metadata": {},
   "outputs": [],
   "source": []
  }
 ],
 "metadata": {
  "kernelspec": {
   "display_name": "Python 3",
   "language": "python",
   "name": "python3"
  },
  "language_info": {
   "codemirror_mode": {
    "name": "ipython",
    "version": 3
   },
   "file_extension": ".py",
   "mimetype": "text/x-python",
   "name": "python",
   "nbconvert_exporter": "python",
   "pygments_lexer": "ipython3",
   "version": "3.10.0"
  },
  "orig_nbformat": 4,
  "vscode": {
   "interpreter": {
    "hash": "27f6fea6f47ae512550f0b8facdbd035a93e1dd89633f7bf2dd00a2502c71d0d"
   }
  }
 },
 "nbformat": 4,
 "nbformat_minor": 2
}

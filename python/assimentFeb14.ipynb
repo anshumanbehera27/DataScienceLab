{
 "cells": [
  {
   "attachments": {},
   "cell_type": "markdown",
   "metadata": {},
   "source": [
    "what is multithreading in python? why is it used? Name the module used to handle threads in python"
   ]
  },
  {
   "attachments": {},
   "cell_type": "markdown",
   "metadata": {},
   "source": [
    "muilti therading is the process where we are able to use or acess the muiltiple process at a time \n",
    "Multithreading is a threading technique in Python programming to run multiple threads concurrently by rapidly switching\n",
    "between threads with a CPU help (called context switching). Besides,\n",
    " it allows sharing of its data space with the main threads inside a process that share information and communication \n",
    "with other threads easier than individual processes. \n",
    "Multithreading aims to perform multiple tasks simultaneously, which increases performance, \n",
    "speed and improves the rendering of the application"
   ]
  },
  {
   "attachments": {},
   "cell_type": "markdown",
   "metadata": {},
   "source": [
    "#### why we use this \n",
    "Multithreading allows the execution of multiple parts of a program at the same time. These parts are known as threads and are lightweight processes available within the process. So multithreading leads to maximum utilization of the CPU by multitasking. It is used in the following cases:\n",
    "\n",
    "1. When a process is waiting for an I/O operation to complete, the CPU can be used for another task.\n",
    "2. When a process is waiting for a response from the user, the CPU can be used for another task.\n",
    "3. When a process is waiting for another process to complete its execution, the CPU can be used for another task.\n",
    "\n",
    "#### module used to handle threads in python\n",
    "threading module is used to handle threads in python"
   ]
  },
  {
   "attachments": {},
   "cell_type": "markdown",
   "metadata": {},
   "source": [
    "#### why threading module used?\n",
    "Threading in python is used to run multiple threads (tasks, function calls) at the same time. This module provides a higher level of abstraction compared to the thread module. The threading module provides a Thread class that can be used to create threads. The Thread class provides the following methods:\n",
    "\n",
    "1. start() − This method starts a new thread and calls the run() method.\n",
    "2. run() − This method is the entry point for a thread.\n",
    "3. join([time]) − This method waits for threads to terminate.\n",
    "4. isAlive() − This method checks whether a thread is still executing.\n",
    "\n",
    "\n",
    "The thread Module. This method starts a new thread and return its identifier. The thread executes the function \"function\" (function is a reference to a function) with the argument list args (which must be a list or a tuple). The optional kwargs argument specifies a dictionary of keyword arguments"
   ]
  },
  {
   "attachments": {},
   "cell_type": "markdown",
   "metadata": {},
   "source": [
    "1. active_count() − This method returns the number of threads currently active.\n",
    "2. current_thread() − This method returns the number of threads currently active.\n",
    "3. enumerate() − This method returns a list of all thread objects that are currently active.\n"
   ]
  },
  {
   "attachments": {},
   "cell_type": "markdown",
   "metadata": {},
   "source": [
    "1. start() − This method starts a new thread and calls the run() method.\n",
    "2. run() − This method is the entry point for a thread.\n",
    "3. join([time]) − This method waits for threads to terminate.\n",
    "4. isAlive() − This method checks whether a thread is still executing.\n"
   ]
  },
  {
   "attachments": {},
   "cell_type": "markdown",
   "metadata": {},
   "source": [
    "4. Write a python program to create two threads. Thread one must print the list of squares and thread\n",
    "two must print the list of cubes"
   ]
  },
  {
   "cell_type": "code",
   "execution_count": 11,
   "metadata": {},
   "outputs": [],
   "source": [
    "def squre(arr) -> list:\n",
    "    for i in range(len(arr)):\n",
    "        arr[i] = arr[i] ** 2\n",
    "        print(arr[i])\n",
    "    return arr\n",
    "\n",
    "def cube(arr) -> list:\n",
    "    for i in range(len(arr)):\n",
    "        arr[i] = arr[i] ** 3\n",
    "    return arr\n"
   ]
  },
  {
   "cell_type": "code",
   "execution_count": 12,
   "metadata": {},
   "outputs": [
    {
     "name": "stdout",
     "output_type": "stream",
     "text": [
      "1\n",
      "4\n",
      "9\n",
      "16\n",
      "25\n",
      "[1, 4, 9, 16, 25]\n"
     ]
    }
   ],
   "source": [
    "import threading\n",
    "arr = [1,2,3,4,5]\n",
    "\n",
    "therad = [threading.Thread(target = squre, args = (arr ,)) ]\n",
    "\n",
    "for i in therad:\n",
    "    i.start()\n",
    "\n",
    "\n"
   ]
  },
  {
   "cell_type": "code",
   "execution_count": 15,
   "metadata": {},
   "outputs": [
    {
     "name": "stdout",
     "output_type": "stream",
     "text": [
      "[1, 8, 27, 64, 125]\n"
     ]
    }
   ],
   "source": [
    "arr = [1,2,3,4,5]\n",
    "therad = [threading.Thread(target = cube, args = (arr ,)) ]\n",
    "for i in therad:\n",
    "    i.start()\n",
    "print(arr)"
   ]
  },
  {
   "attachments": {},
   "cell_type": "markdown",
   "metadata": {},
   "source": [
    "5. State advantages and disadvantages of multithreading\n"
   ]
  },
  {
   "cell_type": "code",
   "execution_count": 16,
   "metadata": {},
   "outputs": [],
   "source": [
    "# State advantages and disadvantages of multithreading\n",
    "# Advantages\n",
    "# 1. It does not require much memory.\n",
    "# 2. It is easy to implement.\n",
    "# 3. It is easy to use.\n",
    "# 4. It is easy to share data between threads.\n",
    "# 5. It is easy to communicate between threads.\n",
    "# 6. It is easy to synchronize threads.\n",
    "# 7. It is easy to kill threads.\n",
    "# 8. It is easy to pause threads.\n",
    "# 9. It is easy to resume threads.\n",
    "# disadvantages\n",
    "# 1. It is difficult to debug.\n",
    "# 2. It is difficult to maintain.\n",
    "# 3. It is difficult to use.\n",
    "# 4. It is difficult to share data between threads.\n",
    "# 5. It is difficult to communicate between threads.\n",
    "# 6. It is difficult to synchronize threads.\n",
    "# 7. It is difficult to kill threads.\n",
    "# 8. It is difficult to pause threads.\n",
    "# 9. It is difficult to resume threads."
   ]
  },
  {
   "attachments": {},
   "cell_type": "markdown",
   "metadata": {},
   "source": [
    "6. Explain deadlocks and race conditions."
   ]
  },
  {
   "cell_type": "code",
   "execution_count": 17,
   "metadata": {},
   "outputs": [],
   "source": [
    "#  what is deadlock\n",
    "# A deadlock is a situation in which two or more threads are blocked forever, waiting for each other. \n",
    "#Deadlock occurs in a situation when a thread is waiting for an object lock, that is acquired by another thread and \n",
    "#second thread is waiting for an object lock that is acquired by first thread.\n",
    "\n",
    "# what is race condition\n",
    "#Race condition occurs when multiple threads read and write the same variable i.e. \n",
    "#they have access to some shared data and they try to change it at the same time. \n",
    "#In such a scenario threads are “racing” each other to access/change the data.\n",
    "\n",
    "\n",
    "\n",
    "\n",
    "\n",
    "\n",
    "\n"
   ]
  }
 ],
 "metadata": {
  "kernelspec": {
   "display_name": "Python 3",
   "language": "python",
   "name": "python3"
  },
  "language_info": {
   "codemirror_mode": {
    "name": "ipython",
    "version": 3
   },
   "file_extension": ".py",
   "mimetype": "text/x-python",
   "name": "python",
   "nbconvert_exporter": "python",
   "pygments_lexer": "ipython3",
   "version": "3.10.0"
  },
  "orig_nbformat": 4,
  "vscode": {
   "interpreter": {
    "hash": "27f6fea6f47ae512550f0b8facdbd035a93e1dd89633f7bf2dd00a2502c71d0d"
   }
  }
 },
 "nbformat": 4,
 "nbformat_minor": 2
}

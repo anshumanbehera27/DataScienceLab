{
 "cells": [
  {
   "attachments": {},
   "cell_type": "markdown",
   "metadata": {},
   "source": [
    "Q1. Create a function which will take a list as an argument and return the product of all the numbers\n",
    "after creating a flat list.\n",
    "Use the below-given list as an argument for your function."
   ]
  },
  {
   "cell_type": "code",
   "execution_count": 5,
   "metadata": {},
   "outputs": [
    {
     "name": "stdout",
     "output_type": "stream",
     "text": [
      "[1, 2, 3, 4, 44, 55, 66, 34, 56, 78, 89, 34, 1, 2, 3, 1, 34, 55, 67, 78, 89, 4, 45, 22, 61, 34, 56]\n",
      "sum of all intenger is: 1018\n"
     ]
    }
   ],
   "source": [
    "list1 = [1,2,3,4, [44,55,66, True], False, (34,56,78,89,34), {1,2,3,3,2,1}, \n",
    "{1:34, \"key2\": [55, 67, 78, 89], 4: (45,22, 61, 34)}, [56, 'data science'], 'Machine Learning']\n",
    "\n",
    "flat_list = []\n",
    "for items in list1:\n",
    "    if type(items) == int:\n",
    "        flat_list.append(items)\n",
    "    elif type(items) == list:\n",
    "        for sub_item in items:\n",
    "            if type(sub_item) == int:\n",
    "                flat_list.append(sub_item)\n",
    "    elif type(items) == str:\n",
    "        pass\n",
    "    elif type(items) == tuple:\n",
    "        for sub_item in items:\n",
    "            if type(sub_item) == int:\n",
    "                flat_list.append(sub_item)\n",
    "    elif type(items) == set:\n",
    "        for sub_item in items:\n",
    "            if type(sub_item) == int:\n",
    "                flat_list.append(sub_item)\n",
    "    elif type(items) == dict:\n",
    "        for sub_item in items:\n",
    "            if type(sub_item) == int:\n",
    "                flat_list.append(sub_item)\n",
    "            if type(items[sub_item]) == int:\n",
    "                flat_list.append(items[sub_item])\n",
    "            if type(sub_item) == str:\n",
    "                pass\n",
    "            if type(items[sub_item]) == list or type(items[sub_item]) == tuple:\n",
    "                for i in items[sub_item]:\n",
    "                    flat_list.append(i)\n",
    "    elif type(items) == list:\n",
    "        for sub_item in items: \n",
    "            if type(sub_item) == int:\n",
    "                flat_list.append(sub_item)\n",
    "    else:\n",
    "        pass\n",
    "\n",
    "print(flat_list)\n",
    "print(\"sum of all intenger is:\",sum(flat_list))"
   ]
  },
  {
   "cell_type": "code",
   "execution_count": 4,
   "metadata": {},
   "outputs": [
    {
     "name": "stdout",
     "output_type": "stream",
     "text": [
      "[0, 1, 2, 3, 4, 5, 6, 7, 8, 9, 10]\n"
     ]
    }
   ],
   "source": [
    "## this is for the practice propouse \n",
    "# list1 = [1,2,3,4, [44,55,66, True], False, (34,56,78,89,34), {1,2,3,3,2,1}, \n",
    "# {1:34, \"key2\": [55, 67, 78, 89], 4: (45,22, 61, 34)}, [56, 'data science'], 'Machine Learning']\n",
    "\n",
    "\n",
    "\n",
    "# def sum_of_intenger(list1):\n",
    "#     ans = []\n",
    "#     # first we have to find out the  intenger value of it \n",
    "#     for arr in range(len(list1)):\n",
    "#         if type(list[arr]) == list or type(arr ) == dict :\n",
    "#             for val in arr:\n",
    "#                 if type(val) == int:\n",
    "#                     ans.append(val)\n",
    "#         elif type(arr) == int:\n",
    "#             ans.append(arr)\n",
    "#     return ans \n",
    "\n",
    "# print(sum_of_intenger(list1))\n"
   ]
  },
  {
   "cell_type": "code",
   "execution_count": 18,
   "metadata": {},
   "outputs": [
    {
     "name": "stdout",
     "output_type": "stream",
     "text": [
      "1\n",
      "2\n",
      "3\n",
      "4\n",
      "44\n",
      "55\n",
      "66\n",
      "34\n",
      "56\n",
      "78\n",
      "89\n",
      "34\n",
      "[34, [55, 67, 78, 89], (45, 22, 61, 34)]\n",
      "56\n"
     ]
    }
   ],
   "source": [
    "# list1 = [1,2,3,4, [44,55,66, True], False, (34,56,78,89,34), {1,2,3,3,2,1}, \n",
    "# {1:34, \"key2\": [55, 67, 78, 89], 4: (45,22, 61, 34)}, [56, 'data science'], 'Machine Learning']\n",
    "\n",
    "# for i in range(len(list1)):\n",
    "#     if type(list1[i]) == int:\n",
    "#         print(list1[i])\n",
    "#     elif type(list1[i]) == list :\n",
    "#         for val in list1[i]:\n",
    "#             if type(val) == int:\n",
    "#                 print(val)\n",
    "#     elif type(list1[i]) == dict:A\n",
    "#         arr = list(list1[i].values())\n",
    "#         print(arr)\n",
    "#     elif type(list1[i]) == tuple:\n",
    "#         for x in list1[i]:\n",
    "#             print(x)\n",
    "\n",
    "\n"
   ]
  },
  {
   "cell_type": "code",
   "execution_count": 53,
   "metadata": {},
   "outputs": [
    {
     "name": "stdout",
     "output_type": "stream",
     "text": [
      "{'a': 1, 'b': 2, 'c': 3}\n"
     ]
    }
   ],
   "source": [
    "# my_dict = {\"a\": 1, \"b\": 2, \"c\": 3}\n",
    "\n",
    "# my_set = set(my_dict.keys())\n",
    "\n",
    "# my_set.add(\"d\")\n",
    "\n",
    "# print(my_dict)A"
   ]
  },
  {
   "attachments": {},
   "cell_type": "markdown",
   "metadata": {},
   "source": [
    "Q2. Write a python program for encrypting a message sent to you by your friend. The logic of encryption\n",
    "should be such that, for a the output should be z. For b, the output should be y. For c, the output should\n",
    "be x respectively. Also, the whitespace should be replaced with a dollar sign. Keep the punctuation\n",
    "marks unchanged."
   ]
  },
  {
   "cell_type": "code",
   "execution_count": 4,
   "metadata": {},
   "outputs": [
    {
     "name": "stdout",
     "output_type": "stream",
     "text": [
      "Original message: I want to become a Data Scientist.\n",
      "Encrypted message: R$dzmg$gl$yvxlnv$z$Wzgz$Hxrvmgrhg.\n"
     ]
    }
   ],
   "source": [
    "def encrypt_message(message):\n",
    "    # A dictionary to store the mapping from normal characters to encrypted characters\n",
    "    mapping = { \n",
    "        'a': 'z', 'b': 'y', 'c': 'x', 'd': 'w', 'e': 'v', 'f': 'u', 'g': 't', 'h': 's',\n",
    "        'i': 'r', 'j': 'q', 'k': 'p', 'l': 'o', 'm': 'n', 'n': 'm', 'o': 'l', 'p': 'k',\n",
    "        'q': 'j', 'r': 'i', 's': 'h', 't': 'g', 'u': 'f', 'v': 'e', 'w': 'd', 'x': 'c',\n",
    "        'y': 'b', 'z': 'a', ' ': '$', 'A': 'Z', 'B': 'Y', 'C': 'X', 'D': 'W', 'E': 'V',\n",
    "        'F': 'U', 'G': 'T', 'H': 'S', 'I': 'R', 'J': 'Q', 'K': 'P', 'L': 'O', 'M': 'N',\n",
    "        'N': 'M', 'O': 'L', 'P': 'K', 'Q': 'J', 'R': 'I', 'S': 'H', 'T': 'G', 'U': 'F',\n",
    "        'V': 'E', 'W': 'D', 'X': 'C', 'Y': 'B', 'Z': 'A'\n",
    "    }\n",
    "\n",
    "    # The encrypted message to be returned\n",
    "    encrypted_message = \"\"\n",
    "\n",
    "    # Iterating over each character in the input message\n",
    "    for char in message:\n",
    "        # If the character is in the mapping dictionary, use its mapped value\n",
    "        if char in mapping:\n",
    "            encrypted_message += mapping[char]\n",
    "        # If the character is not in the mapping dictionary, leave it unchanged\n",
    "        else:\n",
    "            encrypted_message += char\n",
    "\n",
    "    return encrypted_message\n",
    "\n",
    "# Example usage\n",
    "message = \"I want to become a Data Scientist.\"\n",
    "encrypted_message = encrypt_message(message)\n",
    "print(\"Original message:\", message)\n",
    "print(\"Encrypted message:\", encrypted_message)"
   ]
  },
  {
   "cell_type": "markdown",
   "metadata": {},
   "source": [
    "The program defines a function encrypt_message that takes in a message as a string argument. Inside the function, a dictionary mapping is created that maps each character to its corresponding encrypted character.\n",
    "\n",
    "The program then initializes an empty string encrypted_message that will store the encrypted message.\n",
    "\n",
    "The program then uses a for loop to iterate over each character in the input message. For each character, the program checks if it is present in the mapping dictionary. If it is, then the corresponding encrypted character is added to the encrypted_message string. If the character is not in the mapping dictionary, then it is left unchanged and added to the encrypted_message string.\n",
    "\n",
    "Finally, the encrypted message is returned from the function.\n",
    "\n",
    "In the example usage section, the message \"\"I want to become a Data Scientist.\"\" is encrypted and the original message and encrypted message are printed to the console."
   ]
  }
 ],
 "metadata": {
  "kernelspec": {
   "display_name": "Python 3",
   "language": "python",
   "name": "python3"
  },
  "language_info": {
   "codemirror_mode": {
    "name": "ipython",
    "version": 3
   },
   "file_extension": ".py",
   "mimetype": "text/x-python",
   "name": "python",
   "nbconvert_exporter": "python",
   "pygments_lexer": "ipython3",
   "version": "3.10.0"
  },
  "orig_nbformat": 4,
  "vscode": {
   "interpreter": {
    "hash": "27f6fea6f47ae512550f0b8facdbd035a93e1dd89633f7bf2dd00a2502c71d0d"
   }
  }
 },
 "nbformat": 4,
 "nbformat_minor": 2
}

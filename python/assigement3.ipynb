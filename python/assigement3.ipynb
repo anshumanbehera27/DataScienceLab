{
 "cells": [
  {
   "attachments": {},
   "cell_type": "markdown",
   "metadata": {},
   "source": [
    "### differance between the while loop and for loop "
   ]
  },
  {
   "attachments": {},
   "cell_type": "markdown",
   "metadata": {},
   "source": [
    "\n",
    "#### for loop\n",
    "when we know the number of iteration we use for loop\n",
    "for loop is used to iterate over a sequence (list, tuple, string) or other iterable objects.\n",
    "for loop is simple and easy to understand.\n",
    "\n",
    "\n",
    "#### while loop\n",
    "when we don't know the number of iteration we use while loop\n",
    "while loop is used to iterate over a block of code as long as the test expression (condition) is true.\n",
    "while loop is more general and complex than for loop.\n",
    "\n",
    "\n",
    "\n"
   ]
  },
  {
   "cell_type": "code",
   "execution_count": 1,
   "metadata": {},
   "outputs": [
    {
     "name": "stdout",
     "output_type": "stream",
     "text": [
      "1 2 3 4 5 6 7 8 9 1 2 3 4 5 6 7 8 9 "
     ]
    }
   ],
   "source": [
    "# example of for loop \n",
    "for i in range(1 , 10 ):\n",
    "    print(i , end = \" \")\n",
    "# example of while loop\n",
    "i = 1\n",
    "while i < 10 :\n",
    "    print(i , end  = \" \")\n",
    "    i = i + 1"
   ]
  },
  {
   "attachments": {},
   "cell_type": "markdown",
   "metadata": {},
   "source": [
    "### sum and product of the first 10 natural numbers"
   ]
  },
  {
   "cell_type": "code",
   "execution_count": 4,
   "metadata": {},
   "outputs": [
    {
     "name": "stdout",
     "output_type": "stream",
     "text": [
      "sum of the numbers are : 55\n",
      "product of the number are : 3628800\n"
     ]
    }
   ],
   "source": [
    "num  = int(input(\"enter the number :\"))\n",
    "sum = 0 \n",
    "product = 1 \n",
    "for i in range(1 , num+1):\n",
    "    sum += i \n",
    "    product = product * i \n",
    "\n",
    "print(\"sum of the numbers are :\",sum)\n",
    "print(\"product of the number are :\" , product)\n"
   ]
  },
  {
   "attachments": {},
   "cell_type": "markdown",
   "metadata": {},
   "source": [
    "### Create a python program to compute the electricity bill for a household."
   ]
  },
  {
   "cell_type": "code",
   "execution_count": 7,
   "metadata": {},
   "outputs": [
    {
     "name": "stdout",
     "output_type": "stream",
     "text": [
      "Your total amount is : 2250.0\n"
     ]
    }
   ],
   "source": [
    "unit= int(input(\"Enter Your Electric use per unit\"))\n",
    "i = 1 \n",
    "cost = 0 \n",
    "while(i <= unit):\n",
    "    if(i <= 100):\n",
    "        cost = cost + 4.5\n",
    "    elif(i >= 100 and i <= 200):\n",
    "        cost = cost + 6.0\n",
    "    elif(i>= 200 and i <= 300):\n",
    "        cost = cost + 10.0\n",
    "    else :\n",
    "        cost = cost + 20.0\n",
    "    i += 1\n",
    "\n",
    "print(\"Your total amount is :\",cost)\n",
    "\n"
   ]
  },
  {
   "attachments": {},
   "cell_type": "markdown",
   "metadata": {},
   "source": [
    "### question 4"
   ]
  },
  {
   "cell_type": "code",
   "execution_count": 10,
   "metadata": {},
   "outputs": [],
   "source": [
    "\n",
    "def check_cube(val):\n",
    "    ans = val * val * val \n",
    "    if(ans % 4 == 0 or ans == 5):\n",
    "        return True\n",
    "    return False"
   ]
  },
  {
   "cell_type": "code",
   "execution_count": 12,
   "metadata": {},
   "outputs": [
    {
     "name": "stdout",
     "output_type": "stream",
     "text": [
      "[0, 2, 4, 6, 8, 10, 12, 14, 16, 18, 20, 22, 24, 26, 28, 30, 32, 34, 36, 38, 40, 42, 44, 46, 48, 50, 52, 54, 56, 58, 60, 62, 64, 66, 68, 70, 72, 74, 76, 78, 80, 82, 84, 86, 88, 90, 92, 94, 96, 98]\n"
     ]
    }
   ],
   "source": [
    "n = int(input())\n",
    "list=[]\n",
    "# we can creat a list of 1 to 100 first \n",
    "for i in range(n ):\n",
    "    list.append(i)\n",
    "\n",
    "# now we have to find out the cube of the every element and we have to check it is divisable by 4 or 5 or not \n",
    "ans = []\n",
    "for i in list:\n",
    "    if(check_cube(i) == True):\n",
    "        ans.append(i)\n",
    "print(ans)\n",
    "\n",
    "\n"
   ]
  },
  {
   "attachments": {},
   "cell_type": "markdown",
   "metadata": {},
   "source": [
    "### Write a program to filter count vowels in the below-given string."
   ]
  },
  {
   "cell_type": "code",
   "execution_count": 13,
   "metadata": {},
   "outputs": [
    {
     "name": "stdout",
     "output_type": "stream",
     "text": [
      "11\n",
      "aoeoeaaaiei\n"
     ]
    }
   ],
   "source": [
    "string = \"I want to become a data scientist\"\n",
    "ans = \"\"\n",
    "count = 0 \n",
    "for i in range(len(string)):\n",
    "    if(string[i] == \"a\" or string[i] == \"e\" or string[i] == \"o\" or string[i] == \"u\" or string[i] == \"i\" ):\n",
    "        ans  += string[i]\n",
    "        count += 1 \n",
    "\n",
    "print(count)\n",
    "print(ans)\n",
    "\n"
   ]
  }
 ],
 "metadata": {
  "kernelspec": {
   "display_name": "Python 3",
   "language": "python",
   "name": "python3"
  },
  "language_info": {
   "codemirror_mode": {
    "name": "ipython",
    "version": 3
   },
   "file_extension": ".py",
   "mimetype": "text/x-python",
   "name": "python",
   "nbconvert_exporter": "python",
   "pygments_lexer": "ipython3",
   "version": "3.10.0"
  },
  "orig_nbformat": 4,
  "vscode": {
   "interpreter": {
    "hash": "27f6fea6f47ae512550f0b8facdbd035a93e1dd89633f7bf2dd00a2502c71d0d"
   }
  }
 },
 "nbformat": 4,
 "nbformat_minor": 2
}

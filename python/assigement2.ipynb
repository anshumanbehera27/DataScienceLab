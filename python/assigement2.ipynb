{
 "cells": [
  {
   "attachments": {},
   "cell_type": "markdown",
   "metadata": {},
   "source": [
    "### program to accept the percentages "
   ]
  },
  {
   "cell_type": "code",
   "execution_count": 3,
   "metadata": {},
   "outputs": [
    {
     "name": "stdout",
     "output_type": "stream",
     "text": [
      "B\n"
     ]
    }
   ],
   "source": [
    "mark = int(input(\"Enter_Your_Mark:\"))\n",
    "if(mark > 90):\n",
    "    print(\"A\")\n",
    "elif(mark > 80 and mark <= 90):\n",
    "    print(\"B\")\n",
    "elif(mark >= 60 and mark <= 80):\n",
    "    print(\"C\")\n",
    "else:\n",
    "    print(\"D\")\n"
   ]
  },
  {
   "attachments": {},
   "cell_type": "markdown",
   "metadata": {},
   "source": [
    "### cost price and Tax"
   ]
  },
  {
   "cell_type": "code",
   "execution_count": 5,
   "metadata": {},
   "outputs": [
    {
     "name": "stdout",
     "output_type": "stream",
     "text": [
      "You have to pay 15% Tax\n"
     ]
    }
   ],
   "source": [
    "Cost = int(input(\"Enter the cost of your Bike:\"))\n",
    "if(Cost > 100000):\n",
    "    print(\"You have to pay 15% Tax\")\n",
    "elif(Cost > 50000 and Cost <= 100000):\n",
    "    print(\"you have to pay 10% Tax\")\n",
    "else:\n",
    "    print(\"You have to pay 5% Tax\")\n"
   ]
  },
  {
   "attachments": {},
   "cell_type": "markdown",
   "metadata": {},
   "source": [
    "### city and monument\n"
   ]
  },
  {
   "cell_type": "code",
   "execution_count": 7,
   "metadata": {},
   "outputs": [],
   "source": [
    "city = input(\"Enter the City name :\")\n",
    "if(city == \"Delhi\"):\n",
    "    print(\"Red Fort\")\n",
    "elif(city == \"Agra\"):\n",
    "    print(\"Taj Mahal\")\n",
    "elif(city == \"Jaipur\"):\n",
    "    print(\"Jal Mahal\")"
   ]
  },
  {
   "attachments": {},
   "cell_type": "markdown",
   "metadata": {},
   "source": [
    "#### check how many times given number is divided by 3 \n"
   ]
  },
  {
   "cell_type": "code",
   "execution_count": 10,
   "metadata": {},
   "outputs": [
    {
     "name": "stdout",
     "output_type": "stream",
     "text": [
      "6\n",
      "[27, 24, 21, 18, 15, 12]\n"
     ]
    }
   ],
   "source": [
    "num = int(input())\n",
    "count = 0\n",
    "list = []\n",
    "while (num >= 10):\n",
    "    if(num % 3 == 0 ):\n",
    "        list.append(num)\n",
    "        \n",
    "        count  += 1\n",
    "    num = num - 1 \n",
    "print(count)\n",
    "print(list)\n",
    "# we are able to find how many time the value is divisiable by 3 "
   ]
  },
  {
   "attachments": {},
   "cell_type": "markdown",
   "metadata": {},
   "source": [
    "#### why and when we use the while loop \n",
    "A \"While\" Loop is used to repeat a specific block of code an unknown number of times, until a condition is met"
   ]
  },
  {
   "cell_type": "code",
   "execution_count": 15,
   "metadata": {},
   "outputs": [
    {
     "name": "stdout",
     "output_type": "stream",
     "text": [
      "* * * * \n",
      "* * * * \n",
      "* * * * \n",
      "* * * * \n"
     ]
    }
   ],
   "source": [
    "n = int(input())\n",
    "i = 0 \n",
    "while(i <n):\n",
    "    j = 0 \n",
    "    while(j < n ):\n",
    "        print(\"*\" , end = \" \")\n",
    "        j += 1 \n",
    "\n",
    "    print()\n",
    "    i += 1"
   ]
  },
  {
   "cell_type": "code",
   "execution_count": 18,
   "metadata": {},
   "outputs": [
    {
     "name": "stdout",
     "output_type": "stream",
     "text": [
      "\n",
      "* \n",
      "* * \n",
      "* * * \n",
      "* * * * \n",
      "* * * * * \n"
     ]
    }
   ],
   "source": [
    "n = int(input())\n",
    "i = 0 \n",
    "while(i <n):\n",
    "    j = 0 \n",
    "    while(j < i ):\n",
    "        print(\"*\" , end = \" \")\n",
    "        j += 1 \n",
    "\n",
    "    print()\n",
    "    i += 1"
   ]
  },
  {
   "cell_type": "code",
   "execution_count": 17,
   "metadata": {},
   "outputs": [
    {
     "name": "stdout",
     "output_type": "stream",
     "text": [
      "\n",
      "1 \n",
      "2 2 \n",
      "3 3 3 \n",
      "4 4 4 4 \n"
     ]
    }
   ],
   "source": [
    "n = int(input())\n",
    "i = 0 \n",
    "while(i <n):\n",
    "    j = 0 \n",
    "    while(j < i ):\n",
    "        \n",
    "        print( i , end = \" \")\n",
    "        j += 1 \n",
    "\n",
    "    print()\n",
    "    i += 1"
   ]
  },
  {
   "attachments": {},
   "cell_type": "markdown",
   "metadata": {},
   "source": [
    "#### reverse a while loop "
   ]
  },
  {
   "cell_type": "code",
   "execution_count": 12,
   "metadata": {},
   "outputs": [
    {
     "name": "stdout",
     "output_type": "stream",
     "text": [
      "10\n",
      "9\n",
      "8\n",
      "7\n",
      "6\n",
      "5\n",
      "4\n",
      "3\n",
      "2\n",
      "1\n",
      "0\n"
     ]
    }
   ],
   "source": [
    "n = 10 \n",
    "while(n >= 0):\n",
    "    print(n)\n",
    "    n = n -1 \n"
   ]
  }
 ],
 "metadata": {
  "kernelspec": {
   "display_name": "Python 3",
   "language": "python",
   "name": "python3"
  },
  "language_info": {
   "codemirror_mode": {
    "name": "ipython",
    "version": 3
   },
   "file_extension": ".py",
   "mimetype": "text/x-python",
   "name": "python",
   "nbconvert_exporter": "python",
   "pygments_lexer": "ipython3",
   "version": "3.10.0"
  },
  "orig_nbformat": 4,
  "vscode": {
   "interpreter": {
    "hash": "27f6fea6f47ae512550f0b8facdbd035a93e1dd89633f7bf2dd00a2502c71d0d"
   }
  }
 },
 "nbformat": 4,
 "nbformat_minor": 2
}

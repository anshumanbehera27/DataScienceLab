{
 "cells": [
  {
   "attachments": {},
   "cell_type": "markdown",
   "metadata": {},
   "source": [
    "Q1, Create a vehicle class with an init method having instance variables as name_of_vehicle, max_speed\n",
    "and average_of_vehicle."
   ]
  },
  {
   "cell_type": "code",
   "execution_count": 34,
   "metadata": {},
   "outputs": [],
   "source": [
    "class vechicle:\n",
    "    def __init__(self,name_of_vichicle , max_speed , Avrage_of_vehicle) :\n",
    "        self.name_of_vichicle = name_of_vichicle \n",
    "        self.max_speed = max_speed\n",
    "        self.Avrage_of_vechicle = Avrage_of_vehicle\n",
    "\n",
    "    def retun_value(self):\n",
    "        return self.name_of_vichicle , self.Avrage_of_vechicle , self.max_speed\n",
    "\n",
    "        pass\n",
    "    "
   ]
  },
  {
   "cell_type": "code",
   "execution_count": 35,
   "metadata": {},
   "outputs": [
    {
     "data": {
      "text/plain": [
       "('bmw', 15, 2000)"
      ]
     },
     "execution_count": 35,
     "metadata": {},
     "output_type": "execute_result"
    }
   ],
   "source": [
    "name = vechicle(\"bmw\" , 2000 , 15)\n",
    "name.retun_value()"
   ]
  },
  {
   "attachments": {},
   "cell_type": "markdown",
   "metadata": {},
   "source": [
    "Q2. Create a child class car from the vehicle class created in Que 1, which will inherit the vehicle class.\n",
    "Create a method named seating_capacity which takes capacity as an argument and returns the name of\n",
    "the vehicle and its seating capacity."
   ]
  },
  {
   "cell_type": "code",
   "execution_count": 46,
   "metadata": {},
   "outputs": [],
   "source": [
    "class new_class(vechicle):\n",
    "\n",
    "    def __init__(self, name_of_vichicle, max_speed, Avrage_of_vehicle,seating_capacity):\n",
    "        self.seating_capacity = seating_capacity\n",
    "        self.name_of_vichicle = name_of_vichicle \n",
    "\n",
    "    def retun_value(self):\n",
    "        return self.seating_capacity , self.name_of_vichicle\n",
    "    \n",
    "      \n",
    "\n",
    "    "
   ]
  },
  {
   "cell_type": "code",
   "execution_count": 47,
   "metadata": {},
   "outputs": [
    {
     "data": {
      "text/plain": [
       "(5, 'bmw')"
      ]
     },
     "execution_count": 47,
     "metadata": {},
     "output_type": "execute_result"
    }
   ],
   "source": [
    "car = new_class(\"bmw\"  ,200 , 20 , 5)\n",
    "car.retun_value()"
   ]
  },
  {
   "attachments": {},
   "cell_type": "markdown",
   "metadata": {},
   "source": [
    "What is multiple inheritance? Write a python code to demonstrate multiple inheritance."
   ]
  },
  {
   "cell_type": "code",
   "execution_count": 48,
   "metadata": {},
   "outputs": [],
   "source": [
    "# multiple inheritance is use for the when we  are able to acess the property of mutiple class  by calling a single object \n",
    "# then we use the multiple inheritance \n",
    "\n",
    "class val1:\n",
    "    def test1(self):\n",
    "        return \"this is the property of the test1\"\n",
    "    \n"
   ]
  },
  {
   "cell_type": "code",
   "execution_count": 50,
   "metadata": {},
   "outputs": [],
   "source": [
    "class val1:\n",
    "    def test1(self):\n",
    "        return \"this is the property of the test1\"\n",
    "    \n",
    "\n",
    "class val2:\n",
    "    def test2(self):\n",
    "        return \"this is  the property of the test2\"\n",
    "\n",
    "\n",
    "class ans(val1 , val2):\n",
    "    pass\n"
   ]
  },
  {
   "cell_type": "code",
   "execution_count": 53,
   "metadata": {},
   "outputs": [
    {
     "data": {
      "text/plain": [
       "'this is  the property of the test2'"
      ]
     },
     "execution_count": 53,
     "metadata": {},
     "output_type": "execute_result"
    }
   ],
   "source": [
    "object_val = ans()\n",
    "\n",
    "object_val.test2()"
   ]
  },
  {
   "cell_type": "code",
   "execution_count": 54,
   "metadata": {},
   "outputs": [
    {
     "data": {
      "text/plain": [
       "'this is the property of the test1'"
      ]
     },
     "execution_count": 54,
     "metadata": {},
     "output_type": "execute_result"
    }
   ],
   "source": [
    "object_val.test1()"
   ]
  },
  {
   "attachments": {},
   "cell_type": "markdown",
   "metadata": {},
   "source": [
    "what is the getter method and setter method in python "
   ]
  },
  {
   "cell_type": "code",
   "execution_count": null,
   "metadata": {},
   "outputs": [],
   "source": [
    "#getter method   = A method that allows you to access an attribute in a given class\n",
    "\n",
    "#setter method = The setter is a method that is used to set the property's value. \n",
    "# It is very useful in object-oriented programming to set the value of private attributes in a class"
   ]
  },
  {
   "cell_type": "code",
   "execution_count": 55,
   "metadata": {},
   "outputs": [],
   "source": [
    "class car:\n",
    "\n",
    "    def __init__(self , year , make , model , speed) :\n",
    "\n",
    "        self.__year = year # we are using __ for make it private \n",
    "        self.__make = make \n",
    "        self.__model = model\n",
    "        self.__speed =  0 \n",
    "\n",
    "        pass\n",
    "\n",
    "    def set_speed(self , speed):\n",
    "        self.__speed = 0 if speed < 0 else speed\n",
    "\n",
    "    def get_speed(self ):\n",
    "       return self.__speed  \n",
    "                  "
   ]
  },
  {
   "cell_type": "code",
   "execution_count": 58,
   "metadata": {},
   "outputs": [
    {
     "data": {
      "text/plain": [
       "200"
      ]
     },
     "execution_count": 58,
     "metadata": {},
     "output_type": "execute_result"
    }
   ],
   "source": [
    "tata  = car(2022 , \"new\" , \"indico\" , 560)\n",
    "tata.set_speed(200)\n",
    "\n",
    "tata.get_speed()"
   ]
  },
  {
   "attachments": {},
   "cell_type": "markdown",
   "metadata": {},
   "source": [
    "Q5.What is method overriding in python? Write a python code to demonstrate method overriding."
   ]
  },
  {
   "cell_type": "code",
   "execution_count": null,
   "metadata": {},
   "outputs": [],
   "source": [
    "# Method overriding is a feature of object-oriented programming languages where the subclass or \n",
    "# child class can provide the program with specific characteristics or \n",
    "# a specific implementation process of data provided that are already defined in the parent class or superclass"
   ]
  },
  {
   "cell_type": "code",
   "execution_count": 59,
   "metadata": {},
   "outputs": [
    {
     "name": "stdout",
     "output_type": "stream",
     "text": [
      "I eat only plants. I am vegetarian.\n",
      "I breathe oxygen.\n"
     ]
    }
   ],
   "source": [
    "# parent class\n",
    "class Animal:\n",
    "  # properties\n",
    "\tmulticellular = True\n",
    "\t# Eukaryotic means Cells with Nucleus\n",
    "\teukaryotic = True\n",
    "\t\n",
    "\t# function breath\n",
    "\tdef breathe(self):\n",
    "\t    print(\"I breathe oxygen.\")\n",
    "    \n",
    "  # function feed\n",
    "\tdef feed(self):\n",
    "\t    print(\"I eat food.\")\n",
    "\t    \n",
    "# child class\t    \n",
    "class Herbivorous(Animal):\n",
    "    \n",
    "    # function feed\n",
    "\tdef feed(self):\n",
    "\t    print(\"I eat only plants. I am vegetarian.\")\n",
    "\n",
    "herbi = Herbivorous()\n",
    "herbi.feed()\n",
    "# calling some other function\n",
    "herbi.breathe()"
   ]
  }
 ],
 "metadata": {
  "kernelspec": {
   "display_name": "Python 3",
   "language": "python",
   "name": "python3"
  },
  "language_info": {
   "codemirror_mode": {
    "name": "ipython",
    "version": 3
   },
   "file_extension": ".py",
   "mimetype": "text/x-python",
   "name": "python",
   "nbconvert_exporter": "python",
   "pygments_lexer": "ipython3",
   "version": "3.10.0"
  },
  "orig_nbformat": 4,
  "vscode": {
   "interpreter": {
    "hash": "27f6fea6f47ae512550f0b8facdbd035a93e1dd89633f7bf2dd00a2502c71d0d"
   }
  }
 },
 "nbformat": 4,
 "nbformat_minor": 2
}

{
 "cells": [
  {
   "attachments": {},
   "cell_type": "markdown",
   "metadata": {},
   "source": [
    "##### Explain Class and Object with respect to Object-Oriented Programming."
   ]
  },
  {
   "cell_type": "code",
   "execution_count": null,
   "metadata": {},
   "outputs": [],
   "source": [
    "#what is the difference between class and object\n",
    "#class is a logical entity\n",
    "#object is a physical entity\n",
    "#class is a blueprint of object\n",
    "#object is an instance of class\n",
    "#class is a collection of objects\n",
    "#object is a member of class\n",
    "#class is a template of object\n",
    "#object is a real world entity\n"
   ]
  },
  {
   "cell_type": "code",
   "execution_count": 2,
   "metadata": {},
   "outputs": [],
   "source": [
    "#class example\n",
    "class student:\n",
    "\n",
    "    def __init__(self, name , roll , reg_num ) :\n",
    "        self.name= name \n",
    "        self.roll = roll\n",
    "        self.reg_num = reg_num\n",
    "        pass\n",
    "    def print_all(self):\n",
    "        return self.name , self.roll , self.reg_num \n",
    "        \n",
    "    pass"
   ]
  },
  {
   "cell_type": "code",
   "execution_count": 3,
   "metadata": {},
   "outputs": [
    {
     "data": {
      "text/plain": [
       "('ansuman', 3453456, 4554)"
      ]
     },
     "execution_count": 3,
     "metadata": {},
     "output_type": "execute_result"
    }
   ],
   "source": [
    "#object example\n",
    "s1=student(\"ansuman\" , 3453456,4554)\n",
    "s1.print_all()"
   ]
  },
  {
   "attachments": {},
   "cell_type": "markdown",
   "metadata": {},
   "source": [
    "#### Name the four pillars of OOPs."
   ]
  },
  {
   "attachments": {},
   "cell_type": "markdown",
   "metadata": {},
   "source": [
    "the four pillars of OOPs are: abstraction, encapsulation, inheritance and polymorphism."
   ]
  },
  {
   "attachments": {},
   "cell_type": "markdown",
   "metadata": {},
   "source": [
    "#### Explain why the __init__() function is used."
   ]
  },
  {
   "attachments": {},
   "cell_type": "markdown",
   "metadata": {},
   "source": [
    "init function is used to initialize the object of the class. It is called when the object is created.\n",
    "it is used to assign values to the object properties or other operations that are necessary to do when the object is created."
   ]
  },
  {
   "cell_type": "code",
   "execution_count": 4,
   "metadata": {},
   "outputs": [],
   "source": [
    "class student:\n",
    "    \n",
    "\n",
    "    def __init__(self, name , roll , reg_num ) :\n",
    "        self.name= name \n",
    "        self.roll = roll\n",
    "        self.reg_num = reg_num\n",
    "        pass\n",
    "    def print_all(self):\n",
    "        return self.name , self.roll , self.reg_num \n",
    "        \n",
    "    pass\n",
    "\n"
   ]
  },
  {
   "cell_type": "code",
   "execution_count": 5,
   "metadata": {},
   "outputs": [
    {
     "data": {
      "text/plain": [
       "'garvit'"
      ]
     },
     "execution_count": 5,
     "metadata": {},
     "output_type": "execute_result"
    }
   ],
   "source": [
    "std = student(\"garvit\" , 234234,34434)\n",
    "std.name # we are  able to acess the data through it \n"
   ]
  },
  {
   "attachments": {},
   "cell_type": "markdown",
   "metadata": {},
   "source": [
    "### Why self is used in OOPs?"
   ]
  },
  {
   "cell_type": "code",
   "execution_count": null,
   "metadata": {},
   "outputs": [],
   "source": [
    "# self is as a pointer which is use for the assine the value\n",
    "# self is a keyword which is use for the assine the value\n",
    "# self is used to refer to the specific object that is calling that function\n",
    "# self is use to creat a link between the function and the class \n",
    "\n"
   ]
  },
  {
   "attachments": {},
   "cell_type": "markdown",
   "metadata": {},
   "source": [
    "#### What is inheritance? Give an example for each type of inheritance."
   ]
  },
  {
   "cell_type": "code",
   "execution_count": 3,
   "metadata": {},
   "outputs": [],
   "source": [
    "# inheritance\n",
    "# inheritance is a process of creating a new class for using details of an existing class without modifying it \n",
    "# the new class is called derived class and the one from which it inherits is called base class\n",
    "# the derived class inherits the features from the base class\n",
    "\n",
    "#give the example for each type of inheritance\n",
    "#single inheritance\n",
    "#multiple inheritance\n",
    "#multilevel inheritance\n",
    "#hierarchical inheritance\n",
    "\n",
    "#single inheritance\n",
    "\n",
    "\n",
    "\n",
    "\n"
   ]
  },
  {
   "cell_type": "code",
   "execution_count": 1,
   "metadata": {},
   "outputs": [],
   "source": [
    "class class1:\n",
    "    def test_class1(self):\n",
    "        return \"you are in classs 1 \"\n",
    "    "
   ]
  },
  {
   "cell_type": "code",
   "execution_count": 2,
   "metadata": {},
   "outputs": [],
   "source": [
    "class class2(class1):\n",
    "\n",
    "    def  test_class2(self):\n",
    "        return \"you are in class 2\""
   ]
  },
  {
   "cell_type": "code",
   "execution_count": 3,
   "metadata": {},
   "outputs": [],
   "source": [
    "class class3(class2 , class1):\n",
    "\n",
    "    pass\n",
    "\n"
   ]
  },
  {
   "cell_type": "code",
   "execution_count": 4,
   "metadata": {},
   "outputs": [
    {
     "data": {
      "text/plain": [
       "'you are in class 2'"
      ]
     },
     "execution_count": 4,
     "metadata": {},
     "output_type": "execute_result"
    }
   ],
   "source": [
    "obj_class3 = class3()\n",
    "\n",
    "obj_class3.test_class2()\n",
    "\n"
   ]
  }
 ],
 "metadata": {
  "kernelspec": {
   "display_name": "Python 3",
   "language": "python",
   "name": "python3"
  },
  "language_info": {
   "codemirror_mode": {
    "name": "ipython",
    "version": 3
   },
   "file_extension": ".py",
   "mimetype": "text/x-python",
   "name": "python",
   "nbconvert_exporter": "python",
   "pygments_lexer": "ipython3",
   "version": "3.10.0"
  },
  "orig_nbformat": 4,
  "vscode": {
   "interpreter": {
    "hash": "27f6fea6f47ae512550f0b8facdbd035a93e1dd89633f7bf2dd00a2502c71d0d"
   }
  }
 },
 "nbformat": 4,
 "nbformat_minor": 2
}

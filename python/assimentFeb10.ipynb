{
 "cells": [
  {
   "cell_type": "code",
   "execution_count": null,
   "metadata": {},
   "outputs": [],
   "source": [
    "## Q1. Which function is used to open a file? What are the different modes of opening a file? Explain each mode\n",
    "#of file opening."
   ]
  },
  {
   "cell_type": "code",
   "execution_count": 2,
   "metadata": {},
   "outputs": [],
   "source": [
    "# open function is use for the open  a new file\n",
    "f = open(\"val.txt\" , \"w\")\n",
    "\n"
   ]
  },
  {
   "cell_type": "code",
   "execution_count": null,
   "metadata": {},
   "outputs": [],
   "source": [
    "# different mode of  opening the file \n",
    "# 'r'\topen for reading (default)\n",
    "# 'w'\topen for writing, truncating the file first\n",
    "# 'x'\tcreate a new file and open it for writing\n",
    "# 'a'\topen for writing, appending to the end of the file if it exists\n",
    "# 'b'\tbinary mode\n",
    "# 't'\ttext mode (default)\n",
    "# '+'\topen a disk file for updating (reading and writing)\n",
    "# 'U'\tuniversal newline mode (deprecated)"
   ]
  },
  {
   "cell_type": "code",
   "execution_count": 3,
   "metadata": {},
   "outputs": [],
   "source": [
    "f.close()"
   ]
  },
  {
   "attachments": {},
   "cell_type": "markdown",
   "metadata": {},
   "source": [
    "Q2. Why close() function is used? Why is it important to close a file?"
   ]
  },
  {
   "cell_type": "code",
   "execution_count": null,
   "metadata": {},
   "outputs": [],
   "source": [
    "# close function is used to close the paticular file . with out close the file we are not able to save the data in that \n",
    "# paticular file \n",
    "# it is imporatnat \n",
    "#Because files are limited resources managed by the operating system, \n",
    "# making sure files are closed after use will protect against hard-to-debug issues like running out of file handles or \n",
    "# experiencing corrupted data. The best defense is always to open files with a context manager"
   ]
  },
  {
   "attachments": {},
   "cell_type": "markdown",
   "metadata": {},
   "source": [
    "Write a python program to create a text file. Write ‘I want to become a Data Scientist’ in that file. Then\n",
    "close the file. Open this file and read the content of the file."
   ]
  },
  {
   "cell_type": "code",
   "execution_count": 14,
   "metadata": {},
   "outputs": [],
   "source": [
    "data = open(\"anshu.txt\" , \"w\")\n",
    "\n",
    "data.write(\"i want to become a data scientiest\")\n",
    "\n",
    "data.close()"
   ]
  },
  {
   "cell_type": "code",
   "execution_count": 18,
   "metadata": {},
   "outputs": [
    {
     "name": "stdout",
     "output_type": "stream",
     "text": [
      "i want to become a data scientiest\n"
     ]
    }
   ],
   "source": [
    "with open(\"anshu.txt\" , \"r\") as f :\n",
    "    print(f.read())"
   ]
  },
  {
   "attachments": {},
   "cell_type": "markdown",
   "metadata": {},
   "source": [
    "Q4. Explain the following with python code: read(), readline() and readlines()."
   ]
  },
  {
   "cell_type": "code",
   "execution_count": 22,
   "metadata": {},
   "outputs": [],
   "source": [
    "# read \n",
    "# The read() method returns the specified number of bytes from the file. Default is -1 which means the whole file.\n",
    "\n",
    "# file.read()\n",
    "\n",
    "# readline()\n",
    "#The readline() method returns one line from the file.\n",
    "#You can also specified how many bytes from the line to return, by using the size parameter.\n",
    "# file.readline(size)\n",
    "\n",
    "# readlines()\n",
    "# The readlines() method returns a list containing each line in the file as a list item.\n",
    "# Use the hint parameter to limit the number of lines returned. \n",
    "#If the total number of bytes returned exceeds the specified number, no more lines are returned\n",
    "\n",
    "\n"
   ]
  },
  {
   "cell_type": "code",
   "execution_count": 23,
   "metadata": {},
   "outputs": [
    {
     "name": "stdout",
     "output_type": "stream",
     "text": [
      "i want to become a data scientiest\n"
     ]
    }
   ],
   "source": [
    "with open(\"anshu.txt\" ,\"r\") as f :\n",
    "    print(f.readline())"
   ]
  },
  {
   "cell_type": "code",
   "execution_count": 25,
   "metadata": {},
   "outputs": [
    {
     "name": "stdout",
     "output_type": "stream",
     "text": [
      "['i want to become a data scientiest']\n"
     ]
    }
   ],
   "source": [
    "with open(\"anshu.txt\" , 'r') as f : \n",
    "    print(f.readlines()) # it show in the paticular line \n",
    "    "
   ]
  },
  {
   "attachments": {},
   "cell_type": "markdown",
   "metadata": {},
   "source": [
    "Explain why with statement is used with open(). What is the advantage of using with statement and\n",
    "open() together?"
   ]
  },
  {
   "cell_type": "code",
   "execution_count": null,
   "metadata": {},
   "outputs": [],
   "source": [
    "#The with statement works with the open() function to open a file. \n",
    "#Unlike open() where you have to close the file with the close() method, \n",
    "#the with statement closes the file for you without you telling it to.\n",
    "\n",
    "#The with statement works with the open() function to open a file. \n",
    "#Unlike open() where you have to close the file with the close() method, \n",
    "#the with statement closes the file for you without you telling it to"
   ]
  },
  {
   "attachments": {},
   "cell_type": "markdown",
   "metadata": {},
   "source": [
    "Explain the write() and writelines() functions. Give a suitable example."
   ]
  },
  {
   "cell_type": "code",
   "execution_count": 30,
   "metadata": {},
   "outputs": [
    {
     "name": "stdout",
     "output_type": "stream",
     "text": [
      "hey how are you \n"
     ]
    }
   ],
   "source": [
    "#The write() method writes a specified text to the file.\n",
    "\n",
    "#Where the specified text will be inserted depends on the file mode and stream position.\n",
    "\n",
    "#\"a\":  The text will be inserted at the current file stream position, default at the end of the file.\n",
    "\n",
    "#\"w\": The file will be emptied before the text will be inserted at the current file stream position, default 0.\n",
    "\n",
    "f = open(\"old.txt\" , \"w\")\n",
    "f.write(\"hey how are you \")\n",
    "f.close()\n",
    "f = open(\"old.txt\" , \"r\")\n",
    "print(f.read()) \n",
    "f.close()"
   ]
  },
  {
   "cell_type": "code",
   "execution_count": 33,
   "metadata": {},
   "outputs": [
    {
     "name": "stdout",
     "output_type": "stream",
     "text": [
      "hey how are you see you soonover and outsee you soonover and outsee you soonover and out\n"
     ]
    }
   ],
   "source": [
    "#The writelines() method writes the items of a list to the file.\n",
    "\n",
    "#Where the texts will be inserted depends on the file mode and stream position.\n",
    "\n",
    "#\"a\":  The texts will be inserted at the current file stream position, default at the end of the file.\n",
    "\n",
    "#\"w\": The file will be emptied before the texts will be inserted at the current file stream position, default 0.\n",
    "\n",
    "f = open(\"old.txt\" , \"a\")\n",
    "f.writelines([\"see you soon\" , \"over and out\"])\n",
    "f.close()\n",
    "\n",
    "f = open(\"old.txt\" , \"r\")\n",
    "print(f.read())\n",
    "f.close()"
   ]
  }
 ],
 "metadata": {
  "kernelspec": {
   "display_name": "Python 3",
   "language": "python",
   "name": "python3"
  },
  "language_info": {
   "codemirror_mode": {
    "name": "ipython",
    "version": 3
   },
   "file_extension": ".py",
   "mimetype": "text/x-python",
   "name": "python",
   "nbconvert_exporter": "python",
   "pygments_lexer": "ipython3",
   "version": "3.10.0"
  },
  "orig_nbformat": 4,
  "vscode": {
   "interpreter": {
    "hash": "27f6fea6f47ae512550f0b8facdbd035a93e1dd89633f7bf2dd00a2502c71d0d"
   }
  }
 },
 "nbformat": 4,
 "nbformat_minor": 2
}
